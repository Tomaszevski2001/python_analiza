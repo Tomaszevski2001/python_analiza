{
 "cells": [
  {
   "cell_type": "markdown",
   "id": "8f657cbf",
   "metadata": {
    "deletable": false,
    "editable": false,
    "nbgrader": {
     "cell_type": "markdown",
     "checksum": "a4d572b9cb35f7417343f3db3cd5a898",
     "grade": false,
     "grade_id": "cell-fcd2666579131b77",
     "locked": true,
     "schema_version": 3,
     "solution": false,
     "task": false
    },
    "tags": []
   },
   "source": [
    "# Analiza danych przestrzennych - ćwiczenia laboratoryjne 2022/2023\n",
    "\n",
    "Ten notatnik zalicza się do grupy zestawów zadań, na podstawie których odbywa się zaliczenie ćwiczeń i podlega zwrotowi do oceny w ustalonym na zajęciach terminie.\n",
    "\n",
    "Uwagi ogólne:\n",
    "- Podczas wykonywania zadań należy korzystać wyłącznie z pakietów zaimportowanych na początku notatnika oraz z pakietów wchodzących w skład standardowej biblioteki Pythona, które można zaimportować samodzielnie we wskazanej komórce.\n",
    "- Swoje rozwiązania należy wprowadzać wyłącznie w miejce następujących fragmentów kodu:<br/> ` # YOUR CODE HERE`<br/> ` raise NotImplementedError()`<br/> Nie należy w żaden sposób modyfikować pozostałych fragmentów kodu oraz elementów notatnika, w szczególności dodawać lub usuwać komórek oraz zmieniać nazwy pliku.\n",
    "- Jeżeli zestaw zadań wymaga skorzystania z funkcji przygotowanych w ramach wcześniejszych zestawów zadań należy je umieścić we wskazanej komórce.\n",
    "- Wszystkie wykresy powinny być wykonane w jednolitym, przejrzystym i czytelnym stylu, mieć nadane tytuły, opisane osie oraz odpowiednio dobrany rozmiar, wielkość punktów i grubość linii. Proporcje osi wykresów przedstawiających rozkłady punktów powinny być dobrane tak, aby wykresy odzwierciedlały rzeczywisty rozkład punktów w przestrzeni.\n",
    "- Zadania, które powodują wyświetlenie komunikatu o błędzie przerywającym wykonywanie kodu nie podlegają ocenie.\n",
    "\n",
    "Przed odesłaniem zestawu zadań do oceny proszę uzupełnić komórkę z danymi autorów rozwiązania (`NAME` - nazwa grupy, `COLLABORATORS` - imiona, nazwiska i numery indeksów członków grupy) oraz upewnić się, że notatnik działa zgodnie z oczekiwaniami. W tym celu należy skorzystać z opcji **Restart Kernel and Run All Cells...** dostępnej na górnej belce notatnika pod symbolem $\\blacktriangleright\\blacktriangleright$. "
   ]
  },
  {
   "cell_type": "code",
   "execution_count": null,
   "id": "c6cbe7ab",
   "metadata": {},
   "outputs": [],
   "source": [
    "NAME = \"\"\n",
    "COLLABORATORS = \"\""
   ]
  },
  {
   "cell_type": "markdown",
   "id": "bc2f9639",
   "metadata": {
    "deletable": false,
    "editable": false,
    "nbgrader": {
     "cell_type": "markdown",
     "checksum": "eddc8826810e4a6f7bf68319da334bd9",
     "grade": false,
     "grade_id": "cell-109006d425e5cf83",
     "locked": true,
     "schema_version": 3,
     "solution": false,
     "task": false
    },
    "tags": []
   },
   "source": [
    "---"
   ]
  },
  {
   "cell_type": "markdown",
   "id": "09ae627f-7781-432c-92be-054e5c5f19d0",
   "metadata": {
    "deletable": false,
    "editable": false,
    "nbgrader": {
     "cell_type": "markdown",
     "checksum": "86e3f7a48b94cad93da0ec8fbfa298b2",
     "grade": false,
     "grade_id": "cell-be413733df21fa86",
     "locked": true,
     "schema_version": 3,
     "solution": false,
     "task": false
    },
    "tags": []
   },
   "source": [
    "## Zestaw zadań 8: Analiza danych przestrzennych z wykorzystaniem pakietów GeoPandas i PySAL (część 2)"
   ]
  },
  {
   "cell_type": "code",
   "execution_count": 5,
   "id": "1d9566ae-0c1b-4f68-9203-c5924a3651ae",
   "metadata": {
    "deletable": false,
    "editable": false,
    "nbgrader": {
     "cell_type": "code",
     "checksum": "29dc1af3dadc2aa89c6596343c570512",
     "grade": false,
     "grade_id": "cell-baaf088fa7f91aec",
     "locked": true,
     "schema_version": 3,
     "solution": false,
     "task": false
    },
    "tags": []
   },
   "outputs": [
    {
     "ename": "ModuleNotFoundError",
     "evalue": "No module named 'libpysal'",
     "output_type": "error",
     "traceback": [
      "\u001b[1;31m---------------------------------------------------------------------------\u001b[0m",
      "\u001b[1;31mModuleNotFoundError\u001b[0m                       Traceback (most recent call last)",
      "Cell \u001b[1;32mIn [5], line 8\u001b[0m\n\u001b[0;32m      6\u001b[0m \u001b[38;5;28;01mimport\u001b[39;00m \u001b[38;5;21;01mseaborn\u001b[39;00m \u001b[38;5;28;01mas\u001b[39;00m \u001b[38;5;21;01msns\u001b[39;00m\n\u001b[0;32m      7\u001b[0m \u001b[38;5;28;01mimport\u001b[39;00m \u001b[38;5;21;01mgeopandas\u001b[39;00m \u001b[38;5;28;01mas\u001b[39;00m \u001b[38;5;21;01mgpd\u001b[39;00m\n\u001b[1;32m----> 8\u001b[0m \u001b[38;5;28;01mimport\u001b[39;00m \u001b[38;5;21;01mlibpysal\u001b[39;00m \u001b[38;5;28;01mas\u001b[39;00m \u001b[38;5;21;01mps\u001b[39;00m\n\u001b[0;32m      9\u001b[0m \u001b[38;5;28;01mimport\u001b[39;00m \u001b[38;5;21;01mpointpats\u001b[39;00m \u001b[38;5;28;01mas\u001b[39;00m \u001b[38;5;21;01mpp\u001b[39;00m\n\u001b[0;32m     11\u001b[0m \u001b[38;5;28;01mimport\u001b[39;00m \u001b[38;5;21;01mwarnings\u001b[39;00m\n",
      "\u001b[1;31mModuleNotFoundError\u001b[0m: No module named 'libpysal'"
     ]
    }
   ],
   "source": [
    "import numpy as np\n",
    "import pandas as pd\n",
    "import scipy as sp\n",
    "import matplotlib as mpl\n",
    "import matplotlib.pyplot as plt\n",
    "import seaborn as sns\n",
    "import geopandas as gpd\n",
    "import libpysal as ps\n",
    "import pointpats as pp\n",
    "\n",
    "import warnings\n",
    "warnings.simplefilter(action='ignore', category=FutureWarning)"
   ]
  },
  {
   "cell_type": "code",
   "execution_count": null,
   "id": "316bb8bc-c226-49f2-9e30-21fcf0edd040",
   "metadata": {},
   "outputs": [],
   "source": [
    "# Miejsce do importu pakietów wchodzących w skład standardowej biblioteki Pythona oraz ustawienie opcji wykorzystywanych pakietów"
   ]
  },
  {
   "cell_type": "code",
   "execution_count": 3,
   "id": "c6aefef5-b6e6-4e97-a057-747d6510634c",
   "metadata": {
    "deletable": false,
    "nbgrader": {
     "cell_type": "code",
     "checksum": "e935139666652c455055a85f8dafa325",
     "grade": true,
     "grade_id": "cell-39e468ed0fe5cb73",
     "locked": false,
     "points": 0,
     "schema_version": 3,
     "solution": true,
     "task": false
    },
    "tags": []
   },
   "outputs": [],
   "source": [
    "# Miejsce do wklejenie funkcji ze wcześniejszych zestawów zadań\n",
    "# YOUR CODE HERE\n",
    "\n",
    "def g_function_poisson(d, intensity):\n",
    "\n",
    "    #Wyliczam teoretyczną wartość funkcji G na podstawie wzoru, mając już wcześniej wyliczone unikalne wartości odległości do najbliższego sąsiada\n",
    "    G = 1 - np.exp(-intensity * np.pi * d**2)\n",
    "    \n",
    "    g = pd.DataFrame({'D':d, 'G':G})\n",
    "    \n",
    "    g.loc[-1] = [0, 0]  #Dodaję na początek tablicy punkt [0,0]\n",
    "    g.index = g.index + 1  #Przesuwanie indeksu, żeby nie było -1\n",
    "    g.sort_index(inplace = True)\n",
    "    \n",
    "    return(g)\n",
    "\n",
    "#Teoretyczna funkcja F\n",
    "\n",
    "def f_function_poisson(d, intensity):\n",
    "    \n",
    "    F = 1 - np.exp(-intensity * np.pi * d**2)\n",
    "    \n",
    "    f = pd.DataFrame({'D':d, 'F':F})\n",
    "    \n",
    "    f.loc[-1] = [0, 0]  #Dodaję na początek tablicy punkt [0,0]\n",
    "    f.index = f.index + 1  #Przesuwanie indeksu, żeby nie było -1\n",
    "    f.sort_index(inplace = True)\n",
    "    \n",
    "    return f\n",
    "\n",
    "#Jednorodny proces Poissona\n",
    "\n",
    "def homogeneous_poisson_on_rectangle(intensity, x_lim, y_lim):\n",
    "    \n",
    "    x = int(np.random.poisson(intensity * x_lim[1] * y_lim[1])) #generuję proces Poissona o liczbie punktów wg wzoru liczba = intensywność * pole\n",
    "    tab = np.zeros((x,2)) #tworzę tablicę zer z tą liczbą punktów\n",
    "    #Współrzęna = Element losowy w zakresie (zakres = rand(0,1) * (góra - dół) + dół)\n",
    "    for i in range(x):\n",
    "        tab[i,0] += np.random.rand() * (x_lim[1] - x_lim[0]) + x_lim[0]\n",
    "        tab[i,1] += np.random.rand() * (y_lim[1] - y_lim[0]) + y_lim[0]\n",
    "    \n",
    "    df = pd.DataFrame({\"X\": tab[:,0], \"Y\": tab[:,1]})\n",
    "    return df\n",
    "\n",
    "#Jednorodny proces Poissona wewnątrz poligonu\n",
    "\n",
    "def homogeneous_poisson_on_polygon(intensity, polygon):\n",
    "    \n",
    "    extension = polygon.bounds\n",
    "    proces = homogeneous_poisson_on_rectangle(intensity, [extension[\"minx\"], extension[\"maxx\"]], [extension[\"miny\"], extension[\"maxy\"]])\n",
    "    gdf_proces = gpd.GeoDataFrame(geometry = gpd.points_from_xy(proces['X'], proces['Y']))\n",
    "    gdf_proces = gdf_proces.set_crs('epsg:2180')\n",
    "    \n",
    "    return gpd.sjoin(gdf_proces, polygon)\n",
    "\n",
    "\n",
    "\n",
    "#raise NotImplementedError()"
   ]
  },
  {
   "cell_type": "markdown",
   "id": "603eda5e-a368-4dd6-ae49-964d6b182347",
   "metadata": {
    "deletable": false,
    "editable": false,
    "nbgrader": {
     "cell_type": "markdown",
     "checksum": "285f010d191f782718ef19cbbb39fe95",
     "grade": false,
     "grade_id": "cell-fc7371614e21ef35",
     "locked": true,
     "schema_version": 3,
     "solution": false,
     "task": false
    },
    "tags": []
   },
   "source": [
    "#### UWAGA!\n",
    "Znaczna część przykładów i dokumentacji modułów wchodzących w skład pakietu pysal dostępna w internecie nie dotyczny ich najnowszych wersji.\n",
    "Z tego powodu wygodniejszym sposobem zdobywania informacji na temat wykorzystywanych modułów, klas i funkcji jest wykorzystanie funkcji help(), np.: help(ps), help(pp), help(pp.pointpattern)."
   ]
  },
  {
   "cell_type": "markdown",
   "id": "11653a05-5bd0-4169-87cb-e5173bd99c66",
   "metadata": {
    "deletable": false,
    "editable": false,
    "nbgrader": {
     "cell_type": "markdown",
     "checksum": "a5ef62aad7f54c55cd58a027d581d128",
     "grade": false,
     "grade_id": "cell-3d9b6dc04e7b8e64",
     "locked": true,
     "schema_version": 3,
     "solution": false,
     "task": false
    },
    "tags": []
   },
   "source": [
    "### Zadanie 1: Import i przygotowanie danych (5 pkt)\n",
    "Wykorzystując funkcję `geopandas.read_file()` zaimportuj do notatnika dane z dołączonych do niego plików (zakres importowanych danych i odwzorowanie kartograficzne nie wymagają zmian). Następnie, wykorzystując funkcję `geopandas.GeoDataFrame.dissolve()` przygotuj tablicę zawierającą geometrię granic całego kraju. Dostosuj informację znajdującą się w kolumnie \"Nazwa\" stworzonej tablicy do informacji w niej zawartej."
   ]
  },
  {
   "cell_type": "code",
   "execution_count": 12,
   "id": "1ec93e1d-9486-4e87-a1f2-ebdfdcc82dcc",
   "metadata": {
    "deletable": false,
    "nbgrader": {
     "cell_type": "code",
     "checksum": "b41bc26d1f24c651533203cf5fff20a9",
     "grade": true,
     "grade_id": "cell-9c5827e1303cedf5",
     "locked": false,
     "points": 5,
     "schema_version": 3,
     "solution": true,
     "task": false
    },
    "tags": []
   },
   "outputs": [],
   "source": [
    "# YOUR CODE HERE\n",
    "powiaty=gpd.read_file(\"Powiaty (1).zip\")\n",
    "p1 = gpd.read_file(\"points_1.zip\") \n",
    "p2 = gpd.read_file(\"points_2.zip\") \n",
    "p3 = gpd.read_file(\"points_3.zip\") \n",
    "p4 = gpd.read_file(\"points_4.zip\") \n",
    "p5 = gpd.read_file(\"points_5.zip\") \n",
    "\n",
    "powiaty = powiaty.to_crs(2180)\n",
    "pol = powiaty.dissolve()\n",
    "\n",
    "#raise NotImplementedError()"
   ]
  },
  {
   "cell_type": "markdown",
   "id": "c476ef77-d7a6-4169-a3b5-3cfd7c31d424",
   "metadata": {
    "deletable": false,
    "editable": false,
    "nbgrader": {
     "cell_type": "markdown",
     "checksum": "51fcd0e549f0de0c47c2ff817e0deb02",
     "grade": false,
     "grade_id": "cell-6c2c6349e2037fc6",
     "locked": true,
     "schema_version": 3,
     "solution": false,
     "task": false
    },
    "tags": []
   },
   "source": [
    "### Zadanie 2: Badanie intensywności procesów punktowych metodą szacowania lokalnego  (15 pkt)\n",
    "\n",
    "Przygotuj funkcję `point_count_on_subregions()`, która będzie zliczać punkty w obrębie podobszarów oraz funkcję `intensity_on_subregions()`, która będzie obliczać intensywność procesu punktowego w obrębie podobszarów.\n",
    "\n",
    "Następnie wykorzystaj przygotowane funkcje do zbadania intensywności rozkładów punktów z plików points_1.zip i points_2.zip na obszarze poszczegolnych powiatów.\n",
    "\n",
    "Przedstaw wyniki analizy graficznie w postaci kartogramów z nałożonymi na nie rozkładami punktów. Zestaw wyniki na pojedynczej figurze (siatka wykresów 1x2).\n",
    "\n",
    "Przydatne klasy, funkcje i własności:\n",
    "- `geopandas.GeoSeries.within()`\n",
    "- `geopandas.GeoSeries.area`"
   ]
  },
  {
   "cell_type": "markdown",
   "id": "7087fae6-f368-4c57-ac58-be8ba11468d3",
   "metadata": {
    "deletable": false,
    "editable": false,
    "nbgrader": {
     "cell_type": "markdown",
     "checksum": "7affe3dd93972e485dbe28da24f0f253",
     "grade": false,
     "grade_id": "cell-9b9ad70bb5e2485c",
     "locked": true,
     "schema_version": 3,
     "solution": false,
     "task": false
    },
    "tags": []
   },
   "source": [
    "#### a) Przygotowanie funkcji"
   ]
  },
  {
   "cell_type": "code",
   "execution_count": null,
   "id": "82c49f3c-1c79-4709-9c4e-ee11d6811f3c",
   "metadata": {
    "deletable": false,
    "nbgrader": {
     "cell_type": "code",
     "checksum": "f5ac17a9c677f0c0dfda204f13e175ae",
     "grade": true,
     "grade_id": "cell-9e1182bcd41cd01f",
     "locked": false,
     "points": 10,
     "schema_version": 3,
     "solution": true,
     "task": false
    },
    "tags": []
   },
   "outputs": [],
   "source": [
    "def point_count_on_subregions(points, subregions):\n",
    "    \"\"\"\n",
    "    Parameters\n",
    "    -------\n",
    "    points: GeoSeries\n",
    "        Tablica zawierająca punkty zapisane jako obiekty shapely.geometry.point.Point.\n",
    "    subregions: GeoDataFrame\n",
    "        Tablica zawierająca geometrie podobszarów zapisane jako obiekty shapely.geometry.polygon.Polygon.\n",
    "    Returns\n",
    "    -------\n",
    "    counts: Series\n",
    "        Seria Pandas zawierająca liczbą punktów przypisanych do każdego z podobszarów.\n",
    "    \"\"\"\n",
    "    # YOUR CODE HERE\n",
    "    raise NotImplementedError()\n",
    "\n",
    "def intensity_on_subregions(points, subregions):\n",
    "    \"\"\"\n",
    "    Parameters\n",
    "    -------\n",
    "    points: GeoSeries\n",
    "        Tablica zawierająca punkty zapisane jako obiekty shapely.geometry.point.Point.\n",
    "    subregions: GeoDataFrame\n",
    "        Tablica zawierająca geometrie podobszarów zapisane jako obiekty shapely.geometry.polygon.Polygon.\n",
    "    Returns\n",
    "    -------\n",
    "    intensity: Series\n",
    "        Seria Pandas zawierająca intensywność przypisaną do każdego z podobszarów.\n",
    "    \"\"\"\n",
    "    # YOUR CODE HERE\n",
    "    raise NotImplementedError()"
   ]
  },
  {
   "cell_type": "markdown",
   "id": "25e0b799-9e30-4a2e-b006-0a2157491bf5",
   "metadata": {
    "deletable": false,
    "editable": false,
    "nbgrader": {
     "cell_type": "markdown",
     "checksum": "3dde546378c2fa66cd6e00baa5cf0eb0",
     "grade": false,
     "grade_id": "cell-df86c9567ba9912a",
     "locked": true,
     "schema_version": 3,
     "solution": false,
     "task": false
    },
    "tags": []
   },
   "source": [
    "#### b) Wygenerowanie danych"
   ]
  },
  {
   "cell_type": "code",
   "execution_count": null,
   "id": "29c2c996-773f-4c6d-a001-c234ff81a4b2",
   "metadata": {
    "deletable": false,
    "nbgrader": {
     "cell_type": "code",
     "checksum": "49cc5cbb4e3751df5b233a37b572b31c",
     "grade": true,
     "grade_id": "cell-9d8de79d2a5fc0e0",
     "locked": false,
     "points": 2,
     "schema_version": 3,
     "solution": true,
     "task": false
    },
    "tags": []
   },
   "outputs": [],
   "source": [
    "# YOUR CODE HERE\n",
    "raise NotImplementedError()"
   ]
  },
  {
   "cell_type": "markdown",
   "id": "8ffcd3e8-9805-42be-bb8b-ff996f20a1ba",
   "metadata": {
    "deletable": false,
    "editable": false,
    "nbgrader": {
     "cell_type": "markdown",
     "checksum": "7122d78500816d9762d616a76b8afaba",
     "grade": false,
     "grade_id": "cell-6f7270052576178f",
     "locked": true,
     "schema_version": 3,
     "solution": false,
     "task": false
    },
    "tags": []
   },
   "source": [
    "#### c) Wizualizacja"
   ]
  },
  {
   "cell_type": "code",
   "execution_count": null,
   "id": "f2fad7f2-cf1c-46ea-a894-cd655dacb33e",
   "metadata": {
    "deletable": false,
    "nbgrader": {
     "cell_type": "code",
     "checksum": "b9fa30748c7bba854f6b8f6bbe23b095",
     "grade": true,
     "grade_id": "cell-13b058f90f158e9a",
     "locked": false,
     "points": 3,
     "schema_version": 3,
     "solution": true,
     "task": false
    },
    "tags": []
   },
   "outputs": [],
   "source": [
    "# YOUR CODE HERE\n",
    "raise NotImplementedError()"
   ]
  },
  {
   "cell_type": "markdown",
   "id": "a758a569-aa19-4757-aac3-cfcbcc5e1547",
   "metadata": {
    "deletable": false,
    "editable": false,
    "nbgrader": {
     "cell_type": "markdown",
     "checksum": "e844d88de102332e8293209e8245ee71",
     "grade": false,
     "grade_id": "cell-2e6bc852b6b740be",
     "locked": true,
     "schema_version": 3,
     "solution": false,
     "task": false
    },
    "tags": []
   },
   "source": [
    "### Zadanie 3: Funkcja G (15 pkt)\n",
    "Wykorzystując funkcję `pointpats.distance_statistics.g()` przygotuj funkcję `g_function()`, która będzie generować dane niezbędne do wykonania wykresu funkcji G analizowanego rozkładu punktów.\n",
    "\n",
    "Następnie wykorzystaj przygotowane funkcje do wygnenerowania danych dla rozkładów punktów z plików points_3.zip, points_4.zip i points_5.zip. \n",
    "\n",
    "Przedstaw wyniki analizy graficznie w postaci wykresów liniowych funkcji G przygotowanych rozkładów punktów zestawionych z teoretyczną funkcją G jednorodnego rozkładu Poissona o odpowiednio dobranej intensywności. Zestaw wyniki na pojedynczej figurze (siatka wykresów 2x3). Umieść analizowane rozkłady punktów w górnym wierszu, a wykresy funkcji G w dolnym wierszu figury. "
   ]
  },
  {
   "cell_type": "markdown",
   "id": "867c8f7a-c26f-432e-9a43-a59490479de2",
   "metadata": {
    "deletable": false,
    "editable": false,
    "nbgrader": {
     "cell_type": "markdown",
     "checksum": "3b7c7a655507b671316d0e935e153520",
     "grade": false,
     "grade_id": "cell-017e5bf7eaa3dde8",
     "locked": true,
     "schema_version": 3,
     "solution": false,
     "task": false
    },
    "tags": []
   },
   "source": [
    "#### a) Przygotowanie funkcji"
   ]
  },
  {
   "cell_type": "code",
   "execution_count": null,
   "id": "b0376bd5-01af-40a1-a194-4106f5e5446f",
   "metadata": {
    "deletable": false,
    "nbgrader": {
     "cell_type": "code",
     "checksum": "c0c7ec0dedc1034613765b9aeefde321",
     "grade": true,
     "grade_id": "cell-45a156c6228d6a05",
     "locked": false,
     "points": 8,
     "schema_version": 3,
     "solution": true,
     "task": false
    },
    "tags": []
   },
   "outputs": [],
   "source": [
    "def g_function(points, intervals):\n",
    "    \"\"\"\n",
    "    Parameters\n",
    "    -------\n",
    "    points: GeoSeries\n",
    "        Tablica zawierająca punkty zapisane jako obiekty shapely.geometry.point.Point.\n",
    "    intervals: int\n",
    "        Liczba dodatnia określająca na ile części ma zostać podzielony dystans do najdalszej odległosci do najbliższego sąsiada.\n",
    "    Returns\n",
    "    -------\n",
    "    g: DataFrame\n",
    "        Tablica zawierająca dwie kolumny:\n",
    "        - \"D\" - zawierającą unikalne wartości odległości do najbliższego sąsiada uszeregowane od najmniejszej do największej wartości, dla których wyliczone zostały wartości funkcji G,\n",
    "        - \"G\" - zawierającą wyliczone wartości funkcji G.\n",
    "    \"\"\"\n",
    "    # YOUR CODE HERE\n",
    "    raise NotImplementedError()"
   ]
  },
  {
   "cell_type": "markdown",
   "id": "60539aa7-b793-42b1-b5dd-6e01eb496258",
   "metadata": {
    "deletable": false,
    "editable": false,
    "nbgrader": {
     "cell_type": "markdown",
     "checksum": "9e344ece90af5f0b77f8696b77945a97",
     "grade": false,
     "grade_id": "cell-377bc206e758d005",
     "locked": true,
     "schema_version": 3,
     "solution": false,
     "task": false
    },
    "tags": []
   },
   "source": [
    "#### b) Wygenerowanie danych"
   ]
  },
  {
   "cell_type": "code",
   "execution_count": null,
   "id": "4b4d272c-6c0f-48c9-a927-c970adcc9007",
   "metadata": {
    "deletable": false,
    "nbgrader": {
     "cell_type": "code",
     "checksum": "e30bbffb49bc5f2230edd7d76705de33",
     "grade": true,
     "grade_id": "cell-375f59319229e78d",
     "locked": false,
     "points": 3,
     "schema_version": 3,
     "solution": true,
     "task": false
    },
    "tags": []
   },
   "outputs": [],
   "source": [
    "# YOUR CODE HERE\n",
    "raise NotImplementedError()"
   ]
  },
  {
   "cell_type": "markdown",
   "id": "275fb44e-cd98-441a-80ec-2562a621012a",
   "metadata": {
    "deletable": false,
    "editable": false,
    "nbgrader": {
     "cell_type": "markdown",
     "checksum": "41f2b552e014c07b7303b6bbd440e062",
     "grade": false,
     "grade_id": "cell-610bfc01846ba8c5",
     "locked": true,
     "schema_version": 3,
     "solution": false,
     "task": false
    },
    "tags": []
   },
   "source": [
    "#### c) Wizualizacja"
   ]
  },
  {
   "cell_type": "code",
   "execution_count": null,
   "id": "15469e7d-e799-494a-bd2d-3de886eb52cb",
   "metadata": {
    "deletable": false,
    "nbgrader": {
     "cell_type": "code",
     "checksum": "314e964a5e1b42abd695527dba4fcc71",
     "grade": true,
     "grade_id": "cell-37de54b7c1e8add2",
     "locked": false,
     "points": 4,
     "schema_version": 3,
     "solution": true,
     "task": false
    },
    "tags": []
   },
   "outputs": [],
   "source": [
    "# YOUR CODE HERE\n",
    "raise NotImplementedError()"
   ]
  },
  {
   "cell_type": "markdown",
   "id": "f0c38631-a588-40ef-9ec8-7f4dd7bce470",
   "metadata": {
    "deletable": false,
    "editable": false,
    "nbgrader": {
     "cell_type": "markdown",
     "checksum": "7c01526528f7f707e41a6946aecebdc0",
     "grade": false,
     "grade_id": "cell-a82bb0d8bf864786",
     "locked": true,
     "schema_version": 3,
     "solution": false,
     "task": false
    },
    "tags": []
   },
   "source": [
    "### Zadanie 4: Funkcja F (15 pkt)\n",
    "\n",
    "Wykorzystując funkcję `pointpats.distance_statistics.f()` przygotuj funkcję `f_function()`, która będzie generować dane niezbędne do wykonania wykresu funkcji F analizowanego rozkładu punktów.\n",
    "\n",
    "Następnie wykorzystaj przygotowane funkcje do wygnenerowania danych dla rozkładów punktów z plików points_3.zip, points_4.zip i points_5.zip. \n",
    "\n",
    "Przedstaw wyniki analizy graficznie w postaci wykresów liniowych funkcji F przygotowanych rozkładów punktów zestawionych z teoretyczną funkcją F jednorodnego rozkładu Poissona o odpowiednio dobranej intensywności. Zestaw wyniki na pojedynczej figurze (siatka wykresów 2x3). Umieść analizowane rozkłady punktów w górnym wierszu, a wykresy funkcji F w dolnym wierszu figury. "
   ]
  },
  {
   "cell_type": "markdown",
   "id": "4534e719-7482-432d-b9ea-9ac50a7765fa",
   "metadata": {
    "deletable": false,
    "editable": false,
    "nbgrader": {
     "cell_type": "markdown",
     "checksum": "343279f351da09c9f564527165225aba",
     "grade": false,
     "grade_id": "cell-ba60363c44e3b9bd",
     "locked": true,
     "schema_version": 3,
     "solution": false,
     "task": false
    },
    "tags": []
   },
   "source": [
    "#### a) Przygotowanie funkcji"
   ]
  },
  {
   "cell_type": "code",
   "execution_count": null,
   "id": "0bfdcd73-de07-4fb2-9f0d-c39f330c6667",
   "metadata": {
    "deletable": false,
    "nbgrader": {
     "cell_type": "code",
     "checksum": "8c9714e91de9969e810283886501a06e",
     "grade": true,
     "grade_id": "cell-964b50b6a1ffb0fa",
     "locked": false,
     "points": 8,
     "schema_version": 3,
     "solution": true,
     "task": false
    },
    "tags": []
   },
   "outputs": [],
   "source": [
    "def f_function(points, intervals, polygon):\n",
    "    \"\"\"\n",
    "    Parameters\n",
    "    -------\n",
    "    points: GeoSeries\n",
    "        Tablica zawierająca punkty zapisane jako obiekty shapely.geometry.point.Point.\n",
    "    intervals: int\n",
    "        Liczba dodatnia określająca na ile części ma zostać podzielony dystans do najdalszej odległosci do najbliższego sąsiada.\n",
    "    polygon: Polygon\n",
    "        Obszar, na którym mają zostać wygenerowane punkty procesu testowego.\n",
    "        \n",
    "    Returns\n",
    "    -------\n",
    "    f: DataFrame\n",
    "        Tablica zawierająca dwie kolumny:\n",
    "        - \"D\" - zawierającą unikalne wartości odległości do najbliższego sąsiada uszeregowane od najmniejszej do największej wartości, dla których wyliczone zostały wartości funkcji F,\n",
    "        - \"F\" - zawierającą wyliczone wartości funkcji F.\n",
    "    \"\"\"\n",
    "    # YOUR CODE HERE\n",
    "    raise NotImplementedError()"
   ]
  },
  {
   "cell_type": "markdown",
   "id": "80e976dd-1fb9-4074-80be-2f020a2908c4",
   "metadata": {
    "deletable": false,
    "editable": false,
    "nbgrader": {
     "cell_type": "markdown",
     "checksum": "19e4dff454303c9b656667ab11eff584",
     "grade": false,
     "grade_id": "cell-0f678495b7fb1273",
     "locked": true,
     "schema_version": 3,
     "solution": false,
     "task": false
    },
    "tags": []
   },
   "source": [
    "#### b) Wygenerowanie danych"
   ]
  },
  {
   "cell_type": "code",
   "execution_count": null,
   "id": "16b258c7-fd05-44a3-bd48-66a5f15b6c28",
   "metadata": {
    "deletable": false,
    "nbgrader": {
     "cell_type": "code",
     "checksum": "f28c0a5782f863843130eb6a1065bbfd",
     "grade": true,
     "grade_id": "cell-d37cf452abff0515",
     "locked": false,
     "points": 3,
     "schema_version": 3,
     "solution": true,
     "task": false
    },
    "tags": []
   },
   "outputs": [],
   "source": [
    "# YOUR CODE HERE\n",
    "raise NotImplementedError()"
   ]
  },
  {
   "cell_type": "markdown",
   "id": "89b0c13d-0875-4fdd-9c62-7ac072cdad58",
   "metadata": {
    "deletable": false,
    "editable": false,
    "nbgrader": {
     "cell_type": "markdown",
     "checksum": "4eb4d63d564717573e93b7ab1efbcb54",
     "grade": false,
     "grade_id": "cell-4b9d8d1d54bc3a22",
     "locked": true,
     "schema_version": 3,
     "solution": false,
     "task": false
    },
    "tags": []
   },
   "source": [
    "#### c) Wizualizacja"
   ]
  },
  {
   "cell_type": "code",
   "execution_count": null,
   "id": "6cb4ae61-53a4-492a-a489-b0ef116d954b",
   "metadata": {
    "deletable": false,
    "nbgrader": {
     "cell_type": "code",
     "checksum": "cf38d05f1952d128b8470d9d79f57e4f",
     "grade": true,
     "grade_id": "cell-91c84edabfd21688",
     "locked": false,
     "points": 4,
     "schema_version": 3,
     "solution": true,
     "task": false
    },
    "tags": []
   },
   "outputs": [],
   "source": [
    "# YOUR CODE HERE\n",
    "raise NotImplementedError()"
   ]
  }
 ],
 "metadata": {
  "kernelspec": {
   "display_name": "Python 3 (ipykernel)",
   "language": "python",
   "name": "python3"
  },
  "language_info": {
   "codemirror_mode": {
    "name": "ipython",
    "version": 3
   },
   "file_extension": ".py",
   "mimetype": "text/x-python",
   "name": "python",
   "nbconvert_exporter": "python",
   "pygments_lexer": "ipython3",
   "version": "3.10.7"
  },
  "nteract": {
   "version": "nteract-front-end@1.0.0"
  }
 },
 "nbformat": 4,
 "nbformat_minor": 5
}
