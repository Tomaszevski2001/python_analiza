{
 "cells": [
  {
   "cell_type": "markdown",
   "id": "18751d1e",
   "metadata": {
    "deletable": false,
    "editable": false,
    "nbgrader": {
     "cell_type": "markdown",
     "checksum": "a4d572b9cb35f7417343f3db3cd5a898",
     "grade": false,
     "grade_id": "cell-fcd2666579131b77",
     "locked": true,
     "schema_version": 3,
     "solution": false,
     "task": false
    },
    "tags": []
   },
   "source": [
    "# Analiza danych przestrzennych - ćwiczenia laboratoryjne 2022/2023\n",
    "\n",
    "Ten notatnik zalicza się do grupy zestawów zadań, na podstawie których odbywa się zaliczenie ćwiczeń i podlega zwrotowi do oceny w ustalonym na zajęciach terminie.\n",
    "\n",
    "Uwagi ogólne:\n",
    "- Podczas wykonywania zadań należy korzystać wyłącznie z pakietów zaimportowanych na początku notatnika oraz z pakietów wchodzących w skład standardowej biblioteki Pythona, które można zaimportować samodzielnie we wskazanej komórce.\n",
    "- Swoje rozwiązania należy wprowadzać wyłącznie w miejce następujących fragmentów kodu:<br/> ` # YOUR CODE HERE`<br/> ` raise NotImplementedError()`<br/> Nie należy w żaden sposób modyfikować pozostałych fragmentów kodu oraz elementów notatnika, w szczególności dodawać lub usuwać komórek oraz zmieniać nazwy pliku.\n",
    "- Jeżeli zestaw zadań wymaga skorzystania z funkcji przygotowanych w ramach wcześniejszych zestawów zadań należy je umieścić we wskazanej komórce.\n",
    "- Wszystkie wykresy powinny być wykonane w jednolitym, przejrzystym i czytelnym stylu, mieć nadane tytuły, opisane osie oraz odpowiednio dobrany rozmiar, wielkość punktów i grubość linii. Proporcje osi wykresów przedstawiających rozkłady punktów powinny być dobrane tak, aby wykresy odzwierciedlały rzeczywisty rozkład punktów w przestrzeni.\n",
    "- Zadania, które powodują wyświetlenie komunikatu o błędzie przerywającym wykonywanie kodu nie podlegają ocenie.\n",
    "\n",
    "Przed odesłaniem zestawu zadań do oceny proszę uzupełnić komórkę z danymi autorów rozwiązania (`NAME` - nazwa grupy, `COLLABORATORS` - imiona, nazwiska i numery indeksów członków grupy) oraz upewnić się, że notatnik działa zgodnie z oczekiwaniami. W tym celu należy skorzystać z opcji **Restart Kernel and Run All Cells...** dostępnej na górnej belce notatnika pod symbolem $\\blacktriangleright\\blacktriangleright$. "
   ]
  },
  {
   "cell_type": "code",
   "execution_count": 12,
   "id": "0beec016",
   "metadata": {},
   "outputs": [],
   "source": [
    "NAME = \"GIN21\"\n",
    "COLLABORATORS = \"Szymon Marczak 405302, Dawid Makowski 407894, Tomasz Sanicki 408056\""
   ]
  },
  {
   "cell_type": "markdown",
   "id": "fb38d7c9",
   "metadata": {
    "deletable": false,
    "editable": false,
    "nbgrader": {
     "cell_type": "markdown",
     "checksum": "eddc8826810e4a6f7bf68319da334bd9",
     "grade": false,
     "grade_id": "cell-109006d425e5cf83",
     "locked": true,
     "schema_version": 3,
     "solution": false,
     "task": false
    },
    "tags": []
   },
   "source": [
    "---"
   ]
  },
  {
   "cell_type": "markdown",
   "id": "fe995788",
   "metadata": {
    "deletable": false,
    "editable": false,
    "nbgrader": {
     "cell_type": "markdown",
     "checksum": "d7d09a3f6d43a88e3f684a6767164ffe",
     "grade": false,
     "grade_id": "cell-1f33a09e5146ecbe",
     "locked": true,
     "schema_version": 3,
     "solution": false,
     "task": false
    },
    "tags": []
   },
   "source": [
    "## Zestaw zadań 2: Badanie intensywności procesów punktowych (część 1)"
   ]
  },
  {
   "cell_type": "code",
   "execution_count": 13,
   "id": "91eeb8e6",
   "metadata": {
    "deletable": false,
    "editable": false,
    "nbgrader": {
     "cell_type": "code",
     "checksum": "31642740d59cb98672cfd1ca55108013",
     "grade": false,
     "grade_id": "cell-ecd0d56207650fc3",
     "locked": true,
     "schema_version": 3,
     "solution": false,
     "task": false
    },
    "tags": []
   },
   "outputs": [],
   "source": [
    "import numpy as np\n",
    "import pandas as pd\n",
    "import scipy as sp\n",
    "import matplotlib as mpl\n",
    "import matplotlib.pyplot as plt\n",
    "import seaborn as sns"
   ]
  },
  {
   "cell_type": "code",
   "execution_count": 14,
   "id": "e6aa186a",
   "metadata": {
    "tags": []
   },
   "outputs": [],
   "source": [
    "# Miejsce do importu pakietów wchodzących w skład standardowej biblioteki Pythona oraz ustawienie opcji wykorzystywanych pakietów\n",
    "sns.set() \n",
    "sns.set_theme(style=\"whitegrid\")"
   ]
  },
  {
   "cell_type": "code",
   "execution_count": 15,
   "id": "ba39fce2",
   "metadata": {
    "deletable": false,
    "nbgrader": {
     "cell_type": "code",
     "checksum": "a483085d48433d55febe96f376d34572",
     "grade": true,
     "grade_id": "cell-885489b562915779",
     "locked": false,
     "points": 0,
     "schema_version": 3,
     "solution": true,
     "task": false
    },
    "tags": []
   },
   "outputs": [],
   "source": [
    "# Miejsce do wklejenie funkcji ze wcześniejszych zestawów zadań\n",
    "# YOUR CODE HERE\n",
    "\n",
    "#Proces rergularny\n",
    "\n",
    "def regular_on_rectangle(grid, random_component, x_lim, y_lim):\n",
    "    \n",
    "    tab = np.zeros((grid[0]*grid[1],2)) #tworzę tablicę dla procesu regularnego ze współrzędnymi punktów w tym procesie (incjalizacja zerami)\n",
    "    dx = (x_lim[1] - x_lim[0]) / grid[0] #ustalam odległość w płaszczyźnie x w równomiernej siatce punktów\n",
    "    dy = (y_lim[1] - y_lim[0]) / grid[1] #ustalam odległość w płaszczyźnie y w równomiernej siatce punktów\n",
    "    for i in range(0,grid[0]): #pętla przebiegająca poziomo po punktach\n",
    "        for j in range(0,grid[1]): #pętla przebiegająca po każdej kolumnie punktów\n",
    "            #współrzędna punktu = połowa odległości dx/dy (dla początku) + odległość dx razy iteracja + element losowy (w zakresie +-random_component)\n",
    "            tab[grid[1]*i+j,0] = dx * (i + 0.5) + random_component*(np.random.rand()-0.5)*dx\n",
    "            tab[grid[1]*i+j,1] = dy * (j + 0.5) + random_component*(np.random.rand()-0.5)*dy\n",
    "    return tab #zwracam tablicę\n",
    "\n",
    "#Proces nieregularny o jednorodnej intennsywności\n",
    "\n",
    "def homogeneous_poisson_on_rectangle(intensity, x_lim, y_lim):\n",
    "    \n",
    "    x = np.random.poisson(intensity*x_lim[1]*y_lim[1]) #generuję proces Poissona o liczbie punktów wg wzoru liczba = intensywność * pole\n",
    "    tab = np.zeros((x,2)) #tworzę tablicę zer z tą liczbą punktów\n",
    "    #Współrzęna = Element losowy w zakresie (zakres = rand(0,1) * (góra - dół) + dół)\n",
    "    tab[:,0] += [np.random.rand() * (x_lim[1] - x_lim[0]) + x_lim[0] for i in range(x)]\n",
    "    tab[:,1] += [np.random.rand() * (y_lim[1] - y_lim[0]) + y_lim[0] for i in range(x)]\n",
    "    return tab #zwracam tablicę współrzędnych\n",
    "\n",
    "#Proces nieregularny o niejednorodnej intensywności\n",
    "    \n",
    "def intensity_function (x,y):\n",
    "    z = 10*(np.cos(np.pi*x/4)+1)\n",
    "    return z\n",
    "\n",
    "def unhomogeneous_poisson_on_rectangle(intensity_function, x_lim, y_lim):\n",
    "\n",
    "    #Tworzę dwie tablice przechowujące 100 liczb między skrajnymi wartościami wspołrzędnych razem tworzących siatkę 100x100\n",
    "    #(potrzebne będzie do określenia maksymalnej wartości intensywności funkcji)\n",
    "    x1 = np.array(list(np.linspace(x_lim[0],x_lim[1],100))) #tablica stu liczb \n",
    "    y1 = np.array(list(np.linspace(y_lim[0],y_lim[1],100))) #tablica stu liczb\n",
    "    intensywnosc = max(intensity_function(x1, y1)) #obliczam intensywność funkcji, intensity_function zwraca tablicę wartości tej funkcji i wyłaniamy największą wartość\n",
    "    x = np.random.poisson(intensywnosc*x_lim[1]*y_lim[1]) #generuję liczbę punktów losowych\n",
    "    tab = np.zeros((x,2)) #tworzę tablicę zer z tą liczbą punktów\n",
    "    indeks = 0 #zmienna iterująca po tablicy punktów procesu potomnego zlicza niezerowe punkty tablicy (punkty zerowe są tworzone kiedy nie spełniają warunku w pętli)\n",
    "    for i in range(x):\n",
    "        #Współrzęna = Element losowy w zakresie (zakres = rand(0,1) * (góra - dół) + dół)\n",
    "        tab[indeks,0] += np.random.rand() * (x_lim[1] - x_lim[0]) + x_lim[0] \n",
    "        tab[indeks,1] += np.random.rand() * (y_lim[1] - y_lim[0]) + y_lim[0]\n",
    "        #Zgodnie ze wzorem sprawdzam prawdopodobieństwo\n",
    "        if 1 - intensity_function(tab[indeks,0],tab[indeks,1]) / intensywnosc > np.random.rand():\n",
    "            #Punktom niepasującym przuspiuję zero\n",
    "            tab[indeks,:] = 0\n",
    "        else:\n",
    "            indeks += 1\n",
    "    tab_kon = np.zeros((indeks,2)) #tablica zawierająca wynik końcowy w postaci niezerowych punktów procesu\n",
    "    for i in range(indeks):\n",
    "        tab_kon[i,:] += tab[i,:] #przypisuję niezerowe wartości procesu potomnego do tablicy (ostatnie wiersze tablicy tab są zerowe)\n",
    "    return tab_kon #zwracam tablicę współrzędnych\n",
    "    \n",
    "#Proces Materna\n",
    "\n",
    "def materna_on_rectangle(parent_intensity, daughter_intensity, cluster_radius, x_lim, y_lim):\n",
    "\n",
    "    x = np.random.poisson(parent_intensity*x_lim[1]*y_lim[1]) #generuję proces rodzicielski\n",
    "    tab = np.zeros((x,2)) #tablica w której zapiszę punkty procesu rodzicielskiego\n",
    "    tab[:,0] += [np.random.rand() * (x_lim[1] - x_lim[0]) + x_lim[0] for i in range(x)] #współrzędna x punktów procesu rodzicielskiego\n",
    "    tab[:,1] += [np.random.rand() * (y_lim[1] - y_lim[0]) + y_lim[0] for i in range(x)] #współrzędna y punktów procesu rodzicielskiego\n",
    "    tab_kluster = np.zeros((x*int(daughter_intensity*np.pi*cluster_radius**2),2)) #generuję proces potomny\n",
    "    indeks = 0 #zmienna iterująca po tablicy punktów procesu potomnego zlicza niezerowe punkty tablicy (punkty zerowe są tworzone kiedy wychodzą poza zakres)\n",
    "    liczba_punktow_procesu = int(daughter_intensity*np.pi*cluster_radius**2) #liczba punktów procesu potomnego dla pętli for\n",
    "    for i in range(x): #pętla przebiegająca po każdym skupieniu (przypada na jeden proces rodzicielski)\n",
    "        for j in range(liczba_punktow_procesu): #pętla przebiegająca po każdym punkcie w danym skupieniu\n",
    "            #Generuję punkt w procesie równomiernego rozłożenia w kole\n",
    "            p = np.random.rand() * 2 * np.pi #losowy kąt\n",
    "            r = cluster_radius * np.sqrt(np.random.rand()) #losowy promień\n",
    "            x_wsp_rand = np.cos(p) * r #współrzędna x punktu w kole względem jego środka\n",
    "            y_wsp_rand = np.sin(p) * r #współrzędna y punktu w kole względem jego środka\n",
    "            #żeby wpisać współrzędne punktu do tablicy muszę dodać współrzędne środka koła\n",
    "            tab_kluster[indeks,0] += x_wsp_rand + tab[i,0] #dla x\n",
    "            tab_kluster[indeks,1] += y_wsp_rand + tab[i,1] #dla y\n",
    "            #Warunek czy dany punkt znajduje się w zakresie ustalonym w parametrach funkcji (x_lim i y_lim)\n",
    "            if tab_kluster[indeks,0] > x_lim[1] or tab_kluster[indeks,1] > y_lim[1] or tab_kluster[indeks,0] < x_lim[0] or tab_kluster[indeks,1] < y_lim[0]:\n",
    "                #jeśli tak to punktowi przypisuję zera (które później zostaną nadpisane, ponieważ nie przesuwam indeksu)\n",
    "                tab_kluster[indeks,0] = 0\n",
    "                tab_kluster[indeks,1] = 0\n",
    "            else:\n",
    "                #jeśli nie to przesuwam indeks\n",
    "                indeks += 1\n",
    "    tab_kon = np.zeros((indeks,2)) #tablica zawierająca wynik końcowy w postaci niezerowych punktów procesu potomnego\n",
    "    for i in range(indeks):\n",
    "        tab_kon[i,:] += tab_kluster[i,:] #przypisuję niezerowe wartości procesu potomnego do tablicy (ostatnie wiersz tab_kluster są zerowe)\n",
    "    return tab_kon #funkcja zwraca tablicę ze współrzędnymi punktów procesu punktowego\n",
    "\n",
    "#Proces Thomasa\n",
    "\n",
    "def thomas_on_rectangle(parent_intensity, mean_cluster_size, cluster_sigma, x_lim, y_lim):\n",
    "    \n",
    "    x = np.random.poisson(parent_intensity*x_lim[1]*y_lim[1]) #generuję proces rodzicielski\n",
    "    tab = np.zeros((x,2)) #tablica w której zapiszę punkty procesu rodzicielskiego\n",
    "    tab[:,0] += [np.random.rand() * (x_lim[1] - x_lim[0]) + x_lim[0] for i in range(x)] #współrzędna x punktów procesu rodzicielskiego\n",
    "    tab[:,1] += [np.random.rand() * (y_lim[1] - y_lim[0]) + y_lim[0] for i in range(x)] #współrzędna y punktów procesu rodzicielskiego\n",
    "    liczba_punktow_procesu = np.zeros((x,), dtype=int) #tworzę tablicę ile elementów będzie zawierało dane skupienie\n",
    "    for i in range(x):\n",
    "        liczba_punktow_procesu[i] = int(np.random.poisson(mean_cluster_size)) #liczba punktów procesu potomnego dla każdego skupienia\n",
    "    tab_kluster = np.zeros((sum(liczba_punktow_procesu),2)) #tablica współrzędnych punktów procesu potomnego wszystkich skupień\n",
    "    indeks = 0 #zmienna iterująca po tablicy punktów procesu potomnego zlicza niezerowe punkty tablicy (punkty zerowe są tworzone kiedy wychodzą poza zakres)\n",
    "    for i in range(x): #pętla przebiegająca po każdym skupieniu (przypada na jeden proces rodzicielski)\n",
    "        for j in range(liczba_punktow_procesu[i]): #pętla przebiegająca po każdym punkcie w danym skupieniu (tu zakres inny dla każdego skupienia)\n",
    "            #Generuję losową zmienną dla współrzędnych z rozkładu losowego\n",
    "            x_wsp_rand = np.random.normal(0, cluster_sigma) #dla x\n",
    "            y_wsp_rand = np.random.normal(0, cluster_sigma) #dla y\n",
    "            #Żeby wpisać współrzędne punktu do tablicy muszę dodać współrzędne środka koła\n",
    "            tab_kluster[indeks,0] += x_wsp_rand + tab[i,0] #dla x\n",
    "            tab_kluster[indeks,1] += y_wsp_rand + tab[i,1] #dla y\n",
    "            #Warunek czy dany punkt znajduje się w zakresie ustalonym w parametrach funkcji (x_lim i y_lim)\n",
    "            if tab_kluster[indeks,0] > x_lim[1] or tab_kluster[indeks,1] > y_lim[1] or tab_kluster[indeks,0] < x_lim[0] or tab_kluster[indeks,1] < y_lim[0]:\n",
    "                #jeśli tak to punktowi przypisuję zera (które później zostaną nadpisane, ponieważ nie przesuwam indeksu)\n",
    "                tab_kluster[indeks,0] = 0\n",
    "                tab_kluster[indeks,1] = 0\n",
    "            else:\n",
    "                #jeśli nie to przesuwam indeks\n",
    "                indeks += 1\n",
    "    tab_kon = np.zeros((indeks,2)) #tablica zawierająca wynik końcowy w postaci niezerowych punktów procesu potomnego\n",
    "    for i in range(indeks):\n",
    "        tab_kon[i,:] += tab_kluster[i,:] #przypisuję niezerowe wartości procesu potomnego do tablicy (ostatnie wiersz tab_kluster są zerowe)\n",
    "    return tab_kon #funkcja zwraca tablicę ze współrzędnymi punktów procesu punktowego\n",
    "\n",
    "tab_homo_poisson = homogeneous_poisson_on_rectangle(20, [-10,10], [-5,5])\n",
    "tab_unhom_poisson = unhomogeneous_poisson_on_rectangle(intensity_function, [-10,10], [-5,5])\n",
    "tab_matern = materna_on_rectangle(0.3, 15, 1.25, [-10,10], [-5,5])\n",
    "tab_thomas = thomas_on_rectangle(0.3, 20, 0.75, [-10,10], [-5,5])\n",
    "\n",
    "#raise NotImplementedError()"
   ]
  },
  {
   "cell_type": "markdown",
   "id": "2a5aa04f",
   "metadata": {
    "deletable": false,
    "editable": false,
    "nbgrader": {
     "cell_type": "markdown",
     "checksum": "c50257977b3b018f1706a6d9b57d06b7",
     "grade": false,
     "grade_id": "cell-f2afbf273f0dc494",
     "locked": true,
     "schema_version": 3,
     "solution": false,
     "task": false
    },
    "tags": []
   },
   "source": [
    "### Przygotowanie danych (5 pkt)\n",
    "\n",
    "Korzystając z funkcji przygotowanych w ramach pierwszego zestawu zadań wygeneruj rozkłady punktowe o podanych paramatrach.\n",
    "\n",
    "Jednorodny rozkłada Poissona:\n",
    " - intensywność procesu: 20\n",
    " \n",
    "Niejednorodny rozkład Poissona:\n",
    " - intensywność procesu: f(x, y) = $10(cos(\\frac{\\pi}{4} x)+1)$\n",
    "\n",
    "Rozkład Materna:\n",
    " - intensywność procesu macierzystego: 0.15\n",
    " - intensywność procesu potomnego: 15\n",
    " - promień klastra: 1.25\n",
    " \n",
    "Rozkład Thomasa:\n",
    " - intensywność procesu macierzystego: 0.3\n",
    " - średnia liczebność klastra: 20\n",
    " - odchylenie standardowe klastra: 0.75\n",
    "\n",
    "Parametry identyczne dla wszystkich rozkładów:\n",
    " - zakres wartości współrzędnej x: [-10, 10]\n",
    " - zakres wartości współrzędnej y: [-5, 5]"
   ]
  },
  {
   "cell_type": "code",
   "execution_count": 16,
   "id": "6a451581",
   "metadata": {
    "deletable": false,
    "nbgrader": {
     "cell_type": "code",
     "checksum": "bccf86a70913f88bd4ec05e16ef5717e",
     "grade": true,
     "grade_id": "cell-ade1720260927626",
     "locked": false,
     "points": 5,
     "schema_version": 3,
     "solution": true,
     "task": false
    },
    "tags": []
   },
   "outputs": [],
   "source": [
    "# YOUR CODE HERE\n",
    "tab1=pd.read_csv(\"./dane_tymczasowe_HP.csv\")\n",
    "tab2=pd.read_csv(\"./dane_tymczasowe_M.csv\")\n",
    "tab3=pd.read_csv(\"./dane_tymczasowe_T.csv\")\n",
    "tab4=pd.read_csv(\"./dane_tymczasowe_UP.csv\")\n",
    "#raise NotImplementedError()"
   ]
  },
  {
   "cell_type": "markdown",
   "id": "c206f3eb",
   "metadata": {
    "deletable": false,
    "editable": false,
    "nbgrader": {
     "cell_type": "markdown",
     "checksum": "e71cfb8df8e21a3dafa503327c12be05",
     "grade": false,
     "grade_id": "cell-cf8e2b1190d2c9a6",
     "locked": true,
     "schema_version": 3,
     "solution": false,
     "task": false
    },
    "tags": []
   },
   "source": [
    "### Zadanie 1: Badanie intensywności procesu punktowego metodą szacowania lokalnego (20 pkt)\n",
    "\n",
    "Przygotuj funkcję `point_count_on_subregions()`, która będzie zliczać punkty w obrębie prostokątnych podobszarów oraz funkcję `intensity_on_subregions()`, która będzie obliczać intensywność procesu punktowego w obrębie prostokątnych podobszarów.\n",
    "\n",
    "Następnie wykorzystaj przygotowane funkcje do zbadania intensywności wszystkich przygotowanych rozkładów punktów. Ustaw podział obszaru na 40 podobszarów wzdłuż osi $x$ i 20 podobszarów wzdłuż osi $y$.\n",
    "\n",
    "Przedstaw wyniki analizy graficznie w postaci histogramów dwuwymiarowych z nałożonymi na nie rozkładami punktów. Zestaw wyniki na pojedynczej figurze (siatka wykresów 2x2)."
   ]
  },
  {
   "cell_type": "markdown",
   "id": "1c74ffa5",
   "metadata": {
    "deletable": false,
    "editable": false,
    "nbgrader": {
     "cell_type": "markdown",
     "checksum": "2af9f2874b81554258b2ac57538e46c9",
     "grade": false,
     "grade_id": "cell-3bd38731291da2b7",
     "locked": true,
     "schema_version": 3,
     "solution": false,
     "task": false
    },
    "tags": []
   },
   "source": [
    "#### a) Przygotowanie funkcji"
   ]
  },
  {
   "cell_type": "code",
   "execution_count": 17,
   "id": "10b91120",
   "metadata": {
    "deletable": false,
    "nbgrader": {
     "cell_type": "code",
     "checksum": "0dc43961c25df2a48d234902e561d09d",
     "grade": true,
     "grade_id": "cell-6991ddf3ffdd6af4",
     "locked": false,
     "points": 10,
     "schema_version": 3,
     "solution": true,
     "task": false
    },
    "tags": []
   },
   "outputs": [],
   "source": [
    "def point_count_on_subregions(points, bins, x_lim, y_lim):\n",
    "    \"\"\"\n",
    "    Parameters\n",
    "    -------\n",
    "    points: DataFrame\n",
    "        Tablica zawierająca dwie kolumny ze współrzędnymi punktów opisane jako \"X\" i \"Y\".\n",
    "    bins: list\n",
    "        Lista określająca liczbę podobszarów w poziomie i pionie.\n",
    "        Przykład: [10, 10]\n",
    "    x_lim: list\n",
    "        Lista określająca zakres wartości współrzędnej X.\n",
    "        Przykład: [0, 10]\n",
    "    y_lim: list\n",
    "        Lista określająca zakres wartości współrzędnej Y.\n",
    "        Przykład: [0, 10]   \n",
    "\n",
    "    Returns\n",
    "    -------\n",
    "    bin_data: list\n",
    "        Lista zawierająca trzy macierze:\n",
    "        - 1D ze współrzędnymi krawędzi podobszarów na osi X,\n",
    "        - 1D ze współrzędnymi krawędzi podobszarów na osi Y,\n",
    "        - 2D z liczbą punków przypisanych do każdego z podobszarów.\n",
    "        Na przykład: [array([0, 1, 2]), array([0, 1, 2]), array([[7, 2], [4, 5]])]\n",
    "    \"\"\"\n",
    "    # YOUR CODE HERE \n",
    "    return np.histogram2d(points[:,0],points[:,1],bins=bins,range=[x_lim,y_lim])\n",
    "    #raise NotImplementedError()\n",
    "\n",
    "def intensity_on_subregions(points, bins, x_lim, y_lim):\n",
    "    \"\"\"\n",
    "    Parameters\n",
    "    -------\n",
    "    points: DataFrame\n",
    "        Tablica zawierająca dwie kolumny ze współrzędnymi punktów opisane jako \"X\" i \"Y\".\n",
    "    bins: list\n",
    "        Lista określająca liczbę podobszarów w poziomie i pionie.\n",
    "        Przykład: [10, 10]\n",
    "    x_lim: list\n",
    "        Lista określająca zakres wartości współrzędnej X.\n",
    "        Przykład: [0, 10]\n",
    "    y_lim: list\n",
    "        Lista określająca zakres wartości współrzędnej Y.\n",
    "        Przykład: [0, 10]   \n",
    "\n",
    "    Returns\n",
    "    -------\n",
    "    intensity_data: list\n",
    "        Lista zawierająca trzy macierze:\n",
    "        - 1D ze współrzędnymi krawędzi podobszarów na osi X,\n",
    "        - 1D ze współrzędnymi krawędzi podobszarów na osi Y,\n",
    "        - 2D z wartością intensywności przypisaną do każdego z podobszarów.\n",
    "        Na przykład: [array([0, 1, 2]), array([0, 1, 2]), array([[9, 12], [13, 8]])]\n",
    "    \"\"\"\n",
    "    # YOUR CODE HERE\n",
    "    liczba_punktow_z_siatka = point_count_on_subregions(points,bins,x_lim,y_lim)\n",
    "    liczba_punktow = liczba_punktow_z_siatka[0]\n",
    "    intensywnosc = np.zeros((bins[0], bins[1]))\n",
    "    obszar = (x_lim[1] - x_lim[0]) * (y_lim[1] - y_lim[0]) / (bins[0] * bins[1])\n",
    "    for i in range(bins[0]):\n",
    "        for j in range(bins[1]):\n",
    "            liczba = liczba_punktow[i,j]\n",
    "            intensywnosc[i,j] = liczba / obszar\n",
    "    tupel = tuple((liczba_punktow_z_siatka[1], liczba_punktow_z_siatka[2], intensywnosc))\n",
    "    return tupel\n",
    "    #raise NotImplementedError()"
   ]
  },
  {
   "cell_type": "markdown",
   "id": "8138a67e",
   "metadata": {
    "deletable": false,
    "editable": false,
    "nbgrader": {
     "cell_type": "markdown",
     "checksum": "a914bb361de9d6736fe38dc55aa001f7",
     "grade": false,
     "grade_id": "cell-1fb3dd20a15d6124",
     "locked": true,
     "schema_version": 3,
     "solution": false,
     "task": false
    },
    "tags": []
   },
   "source": [
    "#### b) Wygenerowanie danych"
   ]
  },
  {
   "cell_type": "code",
   "execution_count": 18,
   "id": "a673cf39",
   "metadata": {
    "deletable": false,
    "nbgrader": {
     "cell_type": "code",
     "checksum": "c7de0ffd8932aea90202aeabd67cf43f",
     "grade": true,
     "grade_id": "cell-b9ccdceeaa0fe1bd",
     "locked": false,
     "points": 2,
     "schema_version": 3,
     "solution": true,
     "task": false
    },
    "tags": []
   },
   "outputs": [],
   "source": [
    "# YOUR CODE HERE\n",
    "\n",
    "zad1 = intensity_on_subregions(tab_thomas, [20,40], [-10,10], [-5,5]) #Miejsce do wybrania procesu\n",
    "\n",
    "#raise NotImplementedError()"
   ]
  },
  {
   "cell_type": "markdown",
   "id": "174cb1fa",
   "metadata": {
    "deletable": false,
    "editable": false,
    "nbgrader": {
     "cell_type": "markdown",
     "checksum": "97253ad9c74724c4e46948164b2fc3ff",
     "grade": false,
     "grade_id": "cell-56f86a021bf2a767",
     "locked": true,
     "schema_version": 3,
     "solution": false,
     "task": false
    },
    "tags": []
   },
   "source": [
    "#### c) Wizualizacja"
   ]
  },
  {
   "cell_type": "code",
   "execution_count": 20,
   "id": "a4b1255a",
   "metadata": {
    "deletable": false,
    "nbgrader": {
     "cell_type": "code",
     "checksum": "8d2578a07e3d7b8e69aa6bb742b85409",
     "grade": true,
     "grade_id": "cell-046b66442d9f5ae1",
     "locked": false,
     "points": 8,
     "schema_version": 3,
     "solution": true,
     "task": false
    },
    "tags": []
   },
   "outputs": [
    {
     "data": {
      "text/plain": [
       "Text(0.5, 1.0, 'Mapa intensywności procesu punktowego w podobszarach')"
      ]
     },
     "execution_count": 20,
     "metadata": {},
     "output_type": "execute_result"
    },
    {
     "data": {
      "image/png": "[encoded data removed]",
      "text/plain": [
       "<Figure size 640x480 with 1 Axes>"
      ]
     },
     "metadata": {},
     "output_type": "display_data"
    }
   ],
   "source": [
    "# YOUR CODE HERE\n",
    "\n",
    "plt.pcolormesh(zad1[1], zad1[0], zad1[2])\n",
    "plt.title(\"Mapa intensywności procesu punktowego w podobszarach\")\n",
    "\n",
    "\n",
    "#raise NotImplementedError()"
   ]
  },
  {
   "cell_type": "markdown",
   "id": "c2ae6c45",
   "metadata": {
    "deletable": false,
    "editable": false,
    "nbgrader": {
     "cell_type": "markdown",
     "checksum": "b0162507fada8ac18302d31989f5f2e5",
     "grade": false,
     "grade_id": "cell-f619e74fa5bfddea",
     "locked": true,
     "schema_version": 3,
     "solution": false,
     "task": false
    },
    "tags": []
   },
   "source": [
    "### Zadanie 2: Badanie intensywności procesu punktowego metodą funkcji jądrowych (25 pkt)\n",
    "\n",
    "Przygotuj funkcję `intensity_on_kde()`, która będzie obliczać intensywność procesu punktowego z wykorzystaniem jądrowego estymatora funkcji intensywności danego wzorem:\n",
    "$$ \t\\grave{\\lambda}(x,y) = \\sum_{d_i < \\tau} \\frac{3}{\\pi \\tau^2} (1-\\frac{d_i^2}{\\tau^2})^2$$ \n",
    "\n",
    "gdzie: $d_i$ - odległość punktu od centrum funkcji jądrowej, $\\tau$ - promień funkcji jądrowej.\n",
    "\n",
    "Następnie wykorzystaj przygotowaną funkcje do zbadania intensywności wszystkich przygotowanych rozkładów punktów. Wykonaj obliczania dla promienia funkcji jądrowej równego 1.5 i siatki  200x100 regularnie rozłożonych i pokrywających cały obszar punktów.\n",
    "\n",
    "Przedstaw wyniki analizy graficznie w postaci wykresów konturowych z wypełnieniem z nałożonymi na nie rozkładami punktów. Zestaw wyniki na pojedynczej figurze (siatka wykresów 2x2).\n",
    "\n",
    "Uwaga! Funkcja przygotowana według powyższych wytycznych nie ma wbudowanego mechanizmu korekty na efekt brzegowy, w związu z czym będzie zaniżać wartość intensywności przy krawędziach analizowanego obszaru."
   ]
  },
  {
   "cell_type": "markdown",
   "id": "871d5092",
   "metadata": {
    "deletable": false,
    "editable": false,
    "nbgrader": {
     "cell_type": "markdown",
     "checksum": "9538a283326b3202f972d387f176062c",
     "grade": false,
     "grade_id": "cell-c132b42ef73b39dd",
     "locked": true,
     "schema_version": 3,
     "solution": false,
     "task": false
    },
    "tags": []
   },
   "source": [
    "#### a) Przygotowanie funkcji"
   ]
  },
  {
   "cell_type": "code",
   "execution_count": 25,
   "id": "aa600520",
   "metadata": {
    "deletable": false,
    "nbgrader": {
     "cell_type": "code",
     "checksum": "a4d46bdd8c4d28f9c3426c3355284f60",
     "grade": true,
     "grade_id": "cell-b00217faae7981e3",
     "locked": false,
     "points": 15,
     "schema_version": 3,
     "solution": true,
     "task": false
    },
    "tags": []
   },
   "outputs": [],
   "source": [
    "def intensity_on_kde(points, kernel_radius, grid, x_lim, y_lim):\n",
    "    \"\"\"\n",
    "    Parameters\n",
    "    -------\n",
    "    points: DataFrame\n",
    "        Tablica zawierająca dwie kolumny ze współrzędnymi punktów opisane jako \"X\" i \"Y\".\n",
    "    grid: list\n",
    "        Lista określająca liczbę punktów w poziomie i pionie, dla których wyliczane będą wartości intensywności.\n",
    "        Przykład: [10, 10]\n",
    "    kernel_radius: float\n",
    "        Liczba dodatnia określająca promień funkcji jądrowej.\n",
    "    x_lim: list\n",
    "        Lista określająca zakres wartości współrzędnej X.\n",
    "        Przykład: [0, 10]\n",
    "    y_lim: list\n",
    "        Lista określająca zakres wartości współrzędnej Y.\n",
    "        Przykład: [0, 10]   \n",
    "\n",
    "    Returns\n",
    "    -------\n",
    "    intensity_data: DataFrame\n",
    "        Tablica zawierająca trzy kolumny - dwie ze współrzędnymi opisane jako \"X\" i \"Y\"\n",
    "        oraz kolumnę z wartościami intensywności wyliczonymi dla tych współrzędnych opisaną jako \"I\".\n",
    "    \"\"\"\n",
    "    # YOUR CODE HERE\n",
    "   \n",
    "    tab = np.zeros((grid[0 ]* grid[1], 3))\n",
    "    siatka = np.zeros((grid[0] * grid[1], 2))\n",
    "    x = np.linspace(x_lim[0], x_lim[1], grid[0])\n",
    "    y = np.linspace(y_lim[0], y_lim[1], grid[1])\n",
    "    xs,ys = np.meshgrid(x, y)\n",
    "    x = xs.flatten()\n",
    "    y = ys.flatten()\n",
    "    \n",
    "    odleglosci = 0\n",
    "    intensywnosci = 0\n",
    "    \n",
    "    for i in range(np.shape(x)[0]):\n",
    "        intensywnosci = 0\n",
    "        for j in range(len(points)):\n",
    "            odleglosci = np.sqrt((points[j,0] - x[i])**2 + (points[j,1] - y[i])**2)\n",
    "            if odleglosci < kernel_radius:\n",
    "                intensywnosci += (3/(np.pi * kernel_radius**2)) * (1 - (odleglosci**2/kernel_radius**2))\n",
    "        tab[i,0] = x[i]\n",
    "        tab[i,1] = y[i]\n",
    "        tab[i,2] = intensywnosci\n",
    "        \n",
    "    return tab\n",
    "\n",
    "    #raise NotImplementedError()"
   ]
  },
  {
   "cell_type": "markdown",
   "id": "8813acdd",
   "metadata": {
    "deletable": false,
    "editable": false,
    "nbgrader": {
     "cell_type": "markdown",
     "checksum": "0d96c3183acfd690aeafe00f93c54ace",
     "grade": false,
     "grade_id": "cell-7c7b20f5d6ae39fb",
     "locked": true,
     "schema_version": 3,
     "solution": false,
     "task": false
    },
    "tags": []
   },
   "source": [
    "#### b) Wygenerowanie danych"
   ]
  },
  {
   "cell_type": "code",
   "execution_count": 26,
   "id": "601949f0",
   "metadata": {
    "deletable": false,
    "nbgrader": {
     "cell_type": "code",
     "checksum": "fbc3cbcc7635030a6413a1605cba5168",
     "grade": true,
     "grade_id": "cell-a9af7160456f4e6a",
     "locked": false,
     "points": 2,
     "schema_version": 3,
     "solution": true,
     "task": false
    },
    "tags": []
   },
   "outputs": [],
   "source": [
    "# YOUR CODE HERE\n",
    "\n",
    "zad2 = intensity_on_kde(tab_matern, 1.5, [40,20], [-10,10], [-5,5]) #Miejsce do wybrania procesu\n",
    "\n",
    "#raise NotImplementedError()"
   ]
  },
  {
   "cell_type": "markdown",
   "id": "9789814f",
   "metadata": {
    "deletable": false,
    "editable": false,
    "nbgrader": {
     "cell_type": "markdown",
     "checksum": "84ffe7c7f29add3c1e4b95addc6e7235",
     "grade": false,
     "grade_id": "cell-4411bfd3de6aff47",
     "locked": true,
     "schema_version": 3,
     "solution": false,
     "task": false
    },
    "tags": []
   },
   "source": [
    "#### c) Wizualizacja"
   ]
  },
  {
   "cell_type": "code",
   "execution_count": 27,
   "id": "15e65f64",
   "metadata": {
    "deletable": false,
    "nbgrader": {
     "cell_type": "code",
     "checksum": "eb40ad450f2b39e615a042ea05d4d65b",
     "grade": true,
     "grade_id": "cell-f8cd20d253f13d11",
     "locked": false,
     "points": 8,
     "schema_version": 3,
     "solution": true,
     "task": false
    },
    "tags": []
   },
   "outputs": [
    {
     "ename": "TypeError",
     "evalue": "scatterplot() takes from 0 to 1 positional arguments but 2 were given",
     "output_type": "error",
     "traceback": [
      "\u001b[1;31m---------------------------------------------------------------------------\u001b[0m",
      "\u001b[1;31mTypeError\u001b[0m                                 Traceback (most recent call last)",
      "Cell \u001b[1;32mIn [27], line 4\u001b[0m\n\u001b[0;32m      1\u001b[0m \u001b[38;5;66;03m# YOUR CODE HERE\u001b[39;00m\n\u001b[0;32m      3\u001b[0m plt\u001b[38;5;241m.\u001b[39mtricontourf(zad2[:,\u001b[38;5;241m0\u001b[39m],zad2[:,\u001b[38;5;241m1\u001b[39m],zad2[:,\u001b[38;5;241m2\u001b[39m])\n\u001b[1;32m----> 4\u001b[0m \u001b[43msns\u001b[49m\u001b[38;5;241;43m.\u001b[39;49m\u001b[43mscatterplot\u001b[49m\u001b[43m(\u001b[49m\u001b[43mtab_matern\u001b[49m\u001b[43m[\u001b[49m\u001b[43m:\u001b[49m\u001b[43m,\u001b[49m\u001b[38;5;241;43m0\u001b[39;49m\u001b[43m]\u001b[49m\u001b[43m,\u001b[49m\u001b[43m \u001b[49m\u001b[43mtab_matern\u001b[49m\u001b[43m[\u001b[49m\u001b[43m:\u001b[49m\u001b[43m,\u001b[49m\u001b[38;5;241;43m1\u001b[39;49m\u001b[43m]\u001b[49m\u001b[43m,\u001b[49m\u001b[43m \u001b[49m\u001b[43ms\u001b[49m\u001b[43m \u001b[49m\u001b[38;5;241;43m=\u001b[39;49m\u001b[43m \u001b[49m\u001b[38;5;241;43m10\u001b[39;49m\u001b[43m)\u001b[49m \u001b[38;5;66;03m#Miejsce do wybrania procesu (musi być zgodny z tym, wybranym w funkcji intensity_on_kde())\u001b[39;00m\n\u001b[0;32m      5\u001b[0m plt\u001b[38;5;241m.\u001b[39mtitle(\u001b[38;5;124m\"\u001b[39m\u001b[38;5;124mMapa intensywności procesu punktowego\u001b[39m\u001b[38;5;124m\"\u001b[39m)\n\u001b[0;32m      6\u001b[0m plt\u001b[38;5;241m.\u001b[39mxlabel(\u001b[38;5;124m\"\u001b[39m\u001b[38;5;124mX\u001b[39m\u001b[38;5;124m\"\u001b[39m)\n",
      "\u001b[1;31mTypeError\u001b[0m: scatterplot() takes from 0 to 1 positional arguments but 2 were given"
     ]
    },
    {
     "data": {
      "image/png": "[encoded data removed]",
      "text/plain": [
       "<Figure size 640x480 with 1 Axes>"
      ]
     },
     "metadata": {},
     "output_type": "display_data"
    }
   ],
   "source": [
    "# YOUR CODE HERE\n",
    "\n",
    "plt.tricontourf(zad2[:,0],zad2[:,1],zad2[:,2])\n",
    "sns.scatterplot(tab_matern[:,0], tab_matern[:,1], s = 10) #Miejsce do wybrania procesu (musi być zgodny z tym, wybranym w funkcji intensity_on_kde())\n",
    "plt.title(\"Mapa intensywności procesu punktowego\")\n",
    "plt.xlabel(\"X\")\n",
    "plt.ylabel(\"Y\")\n",
    "\n",
    "#raise NotImplementedError()"
   ]
  },
  {
   "cell_type": "code",
   "execution_count": null,
   "id": "89e24be5",
   "metadata": {},
   "outputs": [],
   "source": []
  }
 ],
 "metadata": {
  "kernelspec": {
   "display_name": "Python 3 (ipykernel)",
   "language": "python",
   "name": "python3"
  },
  "language_info": {
   "codemirror_mode": {
    "name": "ipython",
    "version": 3
   },
   "file_extension": ".py",
   "mimetype": "text/x-python",
   "name": "python",
   "nbconvert_exporter": "python",
   "pygments_lexer": "ipython3",
   "version": "3.10.7"
  }
 },
 "nbformat": 4,
 "nbformat_minor": 5
}
