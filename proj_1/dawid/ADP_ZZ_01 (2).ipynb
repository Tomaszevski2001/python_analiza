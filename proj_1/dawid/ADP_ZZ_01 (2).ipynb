{
 "cells": [
  {
   "cell_type": "markdown",
   "id": "08d72ca1",
   "metadata": {
    "deletable": false,
    "editable": false,
    "nbgrader": {
     "cell_type": "markdown",
     "checksum": "a4d572b9cb35f7417343f3db3cd5a898",
     "grade": false,
     "grade_id": "cell-fcd2666579131b77",
     "locked": true,
     "schema_version": 3,
     "solution": false,
     "task": false
    },
    "tags": []
   },
   "source": [
    "# Analiza danych przestrzennych - ćwiczenia laboratoryjne 2022/2023\n",
    "\n",
    "Ten notatnik zalicza się do grupy zestawów zadań, na podstawie których odbywa się zaliczenie ćwiczeń i podlega zwrotowi do oceny w ustalonym na zajęciach terminie.\n",
    "\n",
    "Uwagi ogólne:\n",
    "- Podczas wykonywania zadań należy korzystać wyłącznie z pakietów zaimportowanych na początku notatnika oraz z pakietów wchodzących w skład standardowej biblioteki Pythona, które można zaimportować samodzielnie we wskazanej komórce.\n",
    "- Swoje rozwiązania należy wprowadzać wyłącznie w miejce następujących fragmentów kodu:<br/> ` # YOUR CODE HERE`<br/> ` raise NotImplementedError()`<br/> Nie należy w żaden sposób modyfikować pozostałych fragmentów kodu oraz elementów notatnika, w szczególności dodawać lub usuwać komórek oraz zmieniać nazwy pliku.\n",
    "- Jeżeli zestaw zadań wymaga skorzystania z funkcji przygotowanych w ramach wcześniejszych zestawów zadań należy je umieścić we wskazanej komórce.\n",
    "- Wszystkie wykresy powinny być wykonane w jednolitym, przejrzystym i czytelnym stylu, mieć nadane tytuły, opisane osie oraz odpowiednio dobrany rozmiar, wielkość punktów i grubość linii. Proporcje osi wykresów przedstawiających rozkłady punktów powinny być dobrane tak, aby wykresy odzwierciedlały rzeczywisty rozkład punktów w przestrzeni.\n",
    "- Zadania, które powodują wyświetlenie komunikatu o błędzie przerywającym wykonywanie kodu nie podlegają ocenie.\n",
    "\n",
    "Przed odesłaniem zestawu zadań do oceny proszę uzupełnić komórkę z danymi autorów rozwiązania (`NAME` - nazwa grupy, `COLLABORATORS` - imiona, nazwiska i numery indeksów członków grupy) oraz upewnić się, że notatnik działa zgodnie z oczekiwaniami. W tym celu należy skorzystać z opcji **Restart Kernel and Run All Cells...** dostępnej na górnej belce notatnika pod symbolem $\\blacktriangleright\\blacktriangleright$. "
   ]
  },
  {
   "cell_type": "code",
   "execution_count": 1,
   "id": "ed7d21d5",
   "metadata": {},
   "outputs": [],
   "source": [
    "NAME = \"GIN21\"\n",
    "COLLABORATORS = \"Szymon Marczak 405302, Dawid Makowski 407894, Tomasz Sanicki 408056\""
   ]
  },
  {
   "cell_type": "markdown",
   "id": "1bd1bb1d",
   "metadata": {
    "deletable": false,
    "editable": false,
    "nbgrader": {
     "cell_type": "markdown",
     "checksum": "eddc8826810e4a6f7bf68319da334bd9",
     "grade": false,
     "grade_id": "cell-109006d425e5cf83",
     "locked": true,
     "schema_version": 3,
     "solution": false,
     "task": false
    },
    "tags": []
   },
   "source": [
    "---"
   ]
  },
  {
   "cell_type": "markdown",
   "id": "aba092c9-f275-48d9-b1a1-86f641e42f48",
   "metadata": {
    "deletable": false,
    "editable": false,
    "nbgrader": {
     "cell_type": "markdown",
     "checksum": "59a8239f61429d983493314302c1a0f8",
     "grade": false,
     "grade_id": "cell-1f33a09e5146ecbe",
     "locked": true,
     "schema_version": 3,
     "solution": false,
     "task": false
    },
    "tags": []
   },
   "source": [
    "## Zestaw zadań 1: Generowanie procesów punktowych"
   ]
  },
  {
   "cell_type": "code",
   "execution_count": 5,
   "id": "df40896f-96d6-41b1-b2d4-6d544ca2f521",
   "metadata": {
    "deletable": false,
    "editable": false,
    "nbgrader": {
     "cell_type": "code",
     "checksum": "31642740d59cb98672cfd1ca55108013",
     "grade": false,
     "grade_id": "cell-ecd0d56207650fc3",
     "locked": true,
     "schema_version": 3,
     "solution": false,
     "task": false
    },
    "tags": []
   },
   "outputs": [],
   "source": [
    "import numpy as np\n",
    "import pandas as pd\n",
    "import scipy as sp\n",
    "import matplotlib as mpl\n",
    "import matplotlib.pyplot as plt\n",
    "import seaborn as sns"
   ]
  },
  {
   "cell_type": "code",
   "execution_count": 6,
   "id": "d65fd5ca-3616-485c-b3d7-bbd2011ac19b",
   "metadata": {
    "tags": []
   },
   "outputs": [],
   "source": [
    "# Miejsce do importu pakietów wchodzących w skład standardowej biblioteki Pythona oraz ustawienie opcji wykorzystywanych pakietów\n",
    "sns.set() \n",
    "sns.set_theme(style=\"whitegrid\")"
   ]
  },
  {
   "cell_type": "markdown",
   "id": "89ba9f3e-03be-4bb7-826a-e5233122dd44",
   "metadata": {
    "deletable": false,
    "editable": false,
    "nbgrader": {
     "cell_type": "markdown",
     "checksum": "d68f32d5ca91e4ffe853589d729320d4",
     "grade": false,
     "grade_id": "cell-5ac08c9c8653766e",
     "locked": true,
     "schema_version": 3,
     "solution": false,
     "task": false
    },
    "tags": []
   },
   "source": [
    "### Zadanie 1: Proces regularny z komponentem losowym w obrębie prostokątnego obszaru [10 pkt]\n",
    "\n",
    "Przygotuj funkcję `regular_on_rectangle()`, która będzie generować proces regularny z komponentem losowym w obrębie prostokątnego obszaru.\n",
    "Następnie wykorzystaj przygotowaną funkcję do wygenerowania przykładowego rozkładu punktów i przedstaw go w postaci wykresu punktowego.\n",
    "\n",
    "Algorytm postępowania:\n",
    "1) Generujemy punkty na regularnej siatce tak, że poszczególne punkty są oddalone od siebie o odległość $d_x$ w poziomie i $d_y$ w pionie, a skrajne punkty są oddalone od krawędzi obszaru odpowiednio o $\\frac{1}{2} d_x$ w poziomie i $\\frac{1}{2}d_y$ w pionie.\n",
    "2) Do współrzędnych każdego z punktów dodajemy komponent losowy określony wzorem $r \\cdot rand$ , gdzie $r$ to parametr określający wielkość komponentu losowego, a $rand$ to wartość wylosowana z rozkładu jednostajnego na przedziale $[-\\frac{1}{2} d_x, \\frac{1}{2} d_x]$ w przypadku współrzędnej $x$ i na przedziale $[-\\frac{1}{2} d_y, \\frac{1}{2} d_y]$ w przypadku współrzędnej $y$.\n",
    "\n",
    "Parametry przykładowego rozkładu:\n",
    " - liczba punktów w poziomie: 20\n",
    " - liczba punktów w pionie: 10\n",
    " - wartość współczynnika określającego siłę komponentu losowego: 0.5\n",
    " - zakres wartości współrzędnej x: 0-20\n",
    " - zakres wartości współrzędnej y: 0-10\n"
   ]
  },
  {
   "cell_type": "markdown",
   "id": "6895ebf3-bed7-4fcc-bd82-94ec523b0d54",
   "metadata": {
    "deletable": false,
    "editable": false,
    "nbgrader": {
     "cell_type": "markdown",
     "checksum": "b16701a63f80a59e9608af708e69fa9b",
     "grade": false,
     "grade_id": "cell-685b3a56872881cc",
     "locked": true,
     "schema_version": 3,
     "solution": false,
     "task": false
    },
    "tags": []
   },
   "source": [
    "#### a) Przygotowanie funkcji"
   ]
  },
  {
   "cell_type": "code",
   "execution_count": 8,
   "id": "62b794c4-2805-4d6c-8536-791e4c91b542",
   "metadata": {
    "deletable": false,
    "nbgrader": {
     "cell_type": "code",
     "checksum": "74704b4a852a982ddc7b5834ad696775",
     "grade": true,
     "grade_id": "cell-0b8ca172a3462f06",
     "locked": false,
     "points": 8,
     "schema_version": 3,
     "solution": true,
     "task": false
    },
    "tags": []
   },
   "outputs": [],
   "source": [
    "def regular_on_rectangle(grid, random_component, x_lim, y_lim):\n",
    "    #1. tab=np.zeros(grid[1]*grid[0])\n",
    "    #2.dx =( x_lim[1]-x_lim[0] )/ grid[0]\n",
    "    #3. dy = (y_lim[1]-y_lim[0] )/ grid[1]\n",
    "    #4. for i in range([0,grid[0]]):\n",
    "    #    for j in range (0,grid[1]:\n",
    "    #        tab[grid[1],i,j,0] = (dx * (i+0.5) + random_component(np.random.rand()-0.5) / dx           \n",
    "    #    tab[grid[1]*i+j,0] = dy *(i+0.5) + (random_component(np.random.rand()-0.5 )*dx\n",
    "   # return pd.DataFrame({\"X\":tab[:0],\"Y\":tab[:1]})\n",
    "    \"\"\"\n",
    "    Parameters\n",
    "    -------\n",
    "    grid: list\n",
    "        Lista określająca liczbę punktów w pionie i poziomie.\n",
    "        Przykład: [10, 10]\n",
    "    random_component: float\n",
    "        Liczba z przedziału [0, 1] określająca wielkość komponentu losowego.\n",
    "    x_lim: list\n",
    "        Lista określająca zakres wartości współrzędnej X.\n",
    "        Przykład: [0, 10]\n",
    "    y_lim: list\n",
    "        Lista określająca zakres wartości współrzędnej Y.\n",
    "        Przykład: [0, 10]   \n",
    "\n",
    "    Returns\n",
    "    -------\n",
    "    points: DataFrame\n",
    "        Tablica zawierająca dwie kolumny ze współrzędnymi punktów opisane jako \"X\" i \"Y\".\n",
    "    \"\"\"\n",
    "    # YOUR CODE HERE\n",
    "    \n",
    "    tab = np.zeros((grid[0] * grid[1], 2)) #Tworzę tablicę dla procesu regularnego ze współrzędnymi punktów w tym procesie (incjalizacja zerami)\n",
    "    \n",
    "    #Ustalam odległość w danej płaszczyźnie w równomiernej siatce punktów\n",
    "    dx = (x_lim[1] - x_lim[0]) / grid[0] \n",
    "    dy = (y_lim[1] - y_lim[0]) / grid[1]\n",
    "    \n",
    "    #Pętla przebiegająca poziomo po punktach\n",
    "    for i in range(0, grid[0]):\n",
    "        #Pętla przebiegająca po każdej kolumnie punktów\n",
    "        for j in range(0, grid[1]):\n",
    "            \n",
    "            #Współrzędna punktu = połowa odległości dx/dy (dla początku) + odległość dx razy iteracja + element losowy (w zakresie +-random_component)\n",
    "            tab[grid[1] * i + j, 0] = dx * (i + 0.5) + random_component * (np.random.rand() - 0.5) * dx\n",
    "            tab[grid[1] * i + j, 1] = dy * (j + 0.5) + random_component * (np.random.rand() - 0.5) * dy\n",
    "\n",
    "    return pd.DataFrame({\"X\":tab[:,0], \"Y\":tab[:,1]}) #zwracam DataFrame'a\n",
    "\n",
    "    \n",
    "    #raise NotImplementedError()"
   ]
  },
  {
   "cell_type": "markdown",
   "id": "a6ad8eca-b451-4ac0-b6f8-54a9d2e333c8",
   "metadata": {
    "deletable": false,
    "editable": false,
    "nbgrader": {
     "cell_type": "markdown",
     "checksum": "47a672023cf23332ca31f0118185573a",
     "grade": false,
     "grade_id": "cell-ab531b0d3b299b73",
     "locked": true,
     "schema_version": 3,
     "solution": false,
     "task": false
    },
    "tags": []
   },
   "source": [
    "#### b) Wygenerowanie procesu"
   ]
  },
  {
   "cell_type": "code",
   "execution_count": 9,
   "id": "c6787133-6eb2-48a0-a29c-c18413bd6765",
   "metadata": {
    "deletable": false,
    "nbgrader": {
     "cell_type": "code",
     "checksum": "a5dedba0d128bf18de308b54bcd804b4",
     "grade": true,
     "grade_id": "cell-aa18011258dbd99f",
     "locked": false,
     "points": 1,
     "schema_version": 3,
     "solution": true,
     "task": false
    },
    "tags": []
   },
   "outputs": [],
   "source": [
    "# YOUR CODE HERE\n",
    "\n",
    "zad5 = regular_on_rectangle([20,10], 0.5, [0,20], [0,10]) #Wywołanie funkcji\n",
    "\n",
    "#raise NotImplementedError()"
   ]
  },
  {
   "cell_type": "markdown",
   "id": "a09647a4-8da5-43c4-88fe-0ba2eb86da1f",
   "metadata": {
    "deletable": false,
    "editable": false,
    "nbgrader": {
     "cell_type": "markdown",
     "checksum": "3ff759743f512b78f9c0ca8294627888",
     "grade": false,
     "grade_id": "cell-b6705a56e85ffb5d",
     "locked": true,
     "schema_version": 3,
     "solution": false,
     "task": false
    },
    "tags": []
   },
   "source": [
    "#### c) Wizualizacja"
   ]
  },
  {
   "cell_type": "code",
   "execution_count": 10,
   "id": "7b957c8a-736c-4650-9ab1-25708ac2e093",
   "metadata": {
    "deletable": false,
    "nbgrader": {
     "cell_type": "code",
     "checksum": "68f0efd456f6e1b697238c7ad6807bd4",
     "grade": true,
     "grade_id": "cell-cdcecd5de1baaf3b",
     "locked": false,
     "points": 1,
     "schema_version": 3,
     "solution": true,
     "task": false
    },
    "tags": []
   },
   "outputs": [
    {
     "data": {
      "text/plain": [
       "Text(0.5, 1.0, 'Proces regularny')"
      ]
     },
     "execution_count": 10,
     "metadata": {},
     "output_type": "execute_result"
    },
    {
     "data": {
      "image/png": "[encoded data removed]",
      "text/plain": [
       "<Figure size 640x480 with 1 Axes>"
      ]
     },
     "metadata": {},
     "output_type": "display_data"
    }
   ],
   "source": [
    "# YOUR CODE HERE\n",
    "\n",
    "plt.scatter(zad5[\"X\"], zad5[\"Y\"], s = 5) #Wizualizacja procesu\n",
    "plt.title(\"Proces regularny\")\n",
    "\n",
    "#raise NotImplementedError()"
   ]
  },
  {
   "cell_type": "markdown",
   "id": "2aaed549-7b8e-4da3-b15c-24c2c81978fd",
   "metadata": {
    "deletable": false,
    "editable": false,
    "nbgrader": {
     "cell_type": "markdown",
     "checksum": "79dc2496b3500150de5420cc6f210bed",
     "grade": false,
     "grade_id": "cell-0f09ad83fca941a4",
     "locked": true,
     "schema_version": 3,
     "solution": false,
     "task": false
    },
    "tags": []
   },
   "source": [
    "### Zadanie 2: Jednorodny proces punktowy Poissona w obrębie prostokątnego obszaru [10 pkt]\n",
    "\n",
    "Przygotuj funkcję `homogeneous_poisson_on_rectangle()`, która będzie generować jednorodny proces punktowy Poissona w obrębie prostokątnego obszaru.\n",
    "Następnie wykorzystaj przygotowaną funkcję do wygenerowania przykładowego rozkładu punktów i przedstaw go w postaci wykresu punktowego.\n",
    "\n",
    "Algorytm postępowania:\n",
    "1. Losujemy liczbę punktów $n$ z rozkładu Poissona o wartości oczekiwanej równej $i \\cdot a$, gdzie $i$ to intensywność procesu, a $a$ jest powierzchnią obszaru, na którym generujemy punkty.\n",
    "2. Niezależnie od siebie losujemy wartości współrzędnych $n$ punktów z rozkładów jednostajnych na przedziałach określonych przez przyjęte zakresy wartości współrzędnych $x$ i $y$.\n",
    "\n",
    "Parametry przykładowego rozkładu:\n",
    " - intensywność procesu: 10\n",
    " - zakres wartości współrzędnej x: 0-20\n",
    " - zakres wartości współrzędnej y: 0-10"
   ]
  },
  {
   "cell_type": "markdown",
   "id": "dc9f18f8-e36e-4a70-be3d-f4a172530d1c",
   "metadata": {
    "deletable": false,
    "editable": false,
    "nbgrader": {
     "cell_type": "markdown",
     "checksum": "c5afeaafe0f8d07b89b74b6376cba023",
     "grade": false,
     "grade_id": "cell-d2741480a2c2ded0",
     "locked": true,
     "schema_version": 3,
     "solution": false,
     "task": false
    },
    "tags": []
   },
   "source": [
    "#### a) Przygotowanie funkcji"
   ]
  },
  {
   "cell_type": "code",
   "execution_count": 14,
   "id": "c8ce4bb6-0fab-4423-b6ea-81778e4cbcba",
   "metadata": {
    "deletable": false,
    "nbgrader": {
     "cell_type": "code",
     "checksum": "b7b2d72f6bdd85b3af4f41a418b69977",
     "grade": true,
     "grade_id": "cell-496fc81b5caba229",
     "locked": false,
     "points": 8,
     "schema_version": 3,
     "solution": true,
     "task": false
    },
    "tags": []
   },
   "outputs": [],
   "source": [
    "def homogeneous_poisson_on_rectangle(intensity, x_lim, y_lim):\n",
    "    \"\"\"\n",
    "    Parameters\n",
    "    -------\n",
    "    intensity: float\n",
    "        Liczba dodatnia określająca intensywność procesu punktowego.\n",
    "    x_lim: list\n",
    "        Lista określająca zakres wartości współrzędnej X.\n",
    "        Przykład: [0, 10]\n",
    "    y_lim: list\n",
    "        Lista określająca zakres wartości współrzędnej Y.\n",
    "        Przykład: [0, 10]   \n",
    "    \n",
    "    Returns\n",
    "    -------\n",
    "    points: DataFrame\n",
    "        Tablica zawierająca dwie kolumny ze współrzędnymi punktów opisane jako \"X\" i \"Y\".\n",
    "    \"\"\"\n",
    "    # YOUR CODE HERE\n",
    "    \n",
    "    x = np.random.poisson(intensity * x_lim[1] * y_lim[1]) #Generuję proces Poissona o liczbie punktów wg wzoru liczba = intensywność * pole\n",
    "    tab = np.zeros((x,2)) #Tworzę tablicę zer z tą liczbą punktów\n",
    "    return pd.DataFrame({\"X\":tab[:,0],\"Y\":tab[:,1]})\n",
    "    #Współrzęna = Element losowy w zakresie (zakres = rand(0,1) * (góra - dół) + dół)\n",
    "    for i in range(x):\n",
    "        \n",
    "        tab[i,0] += np.random.rand() * (x_lim[1] - x_lim[0]) + x_lim[0]\n",
    "        tab[i,1] += np.random.rand() * (y_lim[1] - y_lim[0]) + y_lim[0]\n",
    "        \n",
    "    return pd.DataFrame({\"X\":tab[:,0], \"Y\":tab[:,1]}) #Zwracam DataFrame'a\n",
    "    #return pd.DataFrame({\"X\":tab[:,0],\"Y\":tab[:,1]})\n",
    "\n",
    "    # raise NotImplementedError()"
   ]
  },
  {
   "cell_type": "markdown",
   "id": "86aaff13-56c2-4e59-a6cf-353e71552b91",
   "metadata": {
    "deletable": false,
    "editable": false,
    "nbgrader": {
     "cell_type": "markdown",
     "checksum": "6350ec97fe656a0d804a1446250096fe",
     "grade": false,
     "grade_id": "cell-22839468931c2116",
     "locked": true,
     "schema_version": 3,
     "solution": false,
     "task": false
    },
    "tags": []
   },
   "source": [
    "#### b) Wygenerowanie procesu"
   ]
  },
  {
   "cell_type": "code",
   "execution_count": 15,
   "id": "7afb85af-f1b0-4763-ab5f-7e8987c623b1",
   "metadata": {
    "deletable": false,
    "nbgrader": {
     "cell_type": "code",
     "checksum": "7db7727dab9264ae2d29f44d527ec95f",
     "grade": true,
     "grade_id": "cell-e6a2872b97d7c853",
     "locked": false,
     "points": 1,
     "schema_version": 3,
     "solution": true,
     "task": false
    },
    "tags": []
   },
   "outputs": [],
   "source": [
    "# YOUR CODE HERE\n",
    "\n",
    "zad2 = homogeneous_poisson_on_rectangle(10, [0,20], [0,10])\n",
    "\n",
    "# raise NotImplementedError()"
   ]
  },
  {
   "cell_type": "markdown",
   "id": "305a63cb-4a88-4136-aecd-6398a6b8404f",
   "metadata": {
    "deletable": false,
    "editable": false,
    "nbgrader": {
     "cell_type": "markdown",
     "checksum": "73ebe71dbe76a19acc0e338875563b36",
     "grade": false,
     "grade_id": "cell-ad676a567d7e759e",
     "locked": true,
     "schema_version": 3,
     "solution": false,
     "task": false
    },
    "tags": []
   },
   "source": [
    "#### c) Wizualizacja"
   ]
  },
  {
   "cell_type": "code",
   "execution_count": 16,
   "id": "b6b20b13-3c10-4576-a4a1-1f2c45e8eaaf",
   "metadata": {
    "deletable": false,
    "nbgrader": {
     "cell_type": "code",
     "checksum": "3e67d3a00057b731bae8f25265c598cb",
     "grade": true,
     "grade_id": "cell-720584fea7bd395c",
     "locked": false,
     "points": 1,
     "schema_version": 3,
     "solution": true,
     "task": false
    },
    "tags": []
   },
   "outputs": [
    {
     "data": {
      "text/plain": [
       "Text(0.5, 1.0, 'Proces jednorodny Poissona')"
      ]
     },
     "execution_count": 16,
     "metadata": {},
     "output_type": "execute_result"
    },
    {
     "data": {
      "image/png": "[encoded data removed]",
      "text/plain": [
       "<Figure size 640x480 with 1 Axes>"
      ]
     },
     "metadata": {},
     "output_type": "display_data"
    }
   ],
   "source": [
    "# YOUR CODE HERE\n",
    "\n",
    "plt.scatter(zad2[\"X\"], zad2[\"Y\"], s = 5)\n",
    "plt.title(\"Proces jednorodny Poissona\")\n",
    "\n",
    "# raise NotImplementedError()"
   ]
  },
  {
   "cell_type": "markdown",
   "id": "009d2b89-bff2-4277-8610-72a0ee2b5a89",
   "metadata": {
    "deletable": false,
    "editable": false,
    "nbgrader": {
     "cell_type": "markdown",
     "checksum": "d3a9dae55d42c67410d446085a579eb9",
     "grade": false,
     "grade_id": "cell-bffdfc71573b0f75",
     "locked": true,
     "schema_version": 3,
     "solution": false,
     "task": false
    },
    "tags": []
   },
   "source": [
    "### Zadanie 3: Niejednorodny proces punktowy Poissona w obrębie prostokątnego obszaru [10 pkt]\n",
    "\n",
    "Przygotuj funkcję `unhomogeneous_poisson_on_rectangle()`, która będzie generować niejednorodny proces punktowy Poissona w obrębie prostokątnego obszaru.\n",
    "Następnie wykorzystaj przygotowaną funkcję do wygenerowania przykładowego rozkładu punktów i przedstaw go w postaci wykresu punktowego.\n",
    "\n",
    "Algorytm postępowania:\n",
    "1. Generujemy punkty z wykorzystaniem jednorodnego procesu Poissona przyjmując intensywność procesu równą maksymalnej wartości jaką osiąga funkcja intensywności w analizowanym obszarze.\n",
    "2. Przerzedzamy rozkład usuwając z niego punkty z prawdopodobieństwem równym $1-\\frac{i}{i_{max}}$, gdzie $i$ to wartość jaką przyjmuje funkcja intensywności dla współrzędnych danego punktu, a $i_{max}$ to maksymalna wartość jaką funkcja intensywności osiąga w granicach analizowanego obszaru.\n",
    "\n",
    "Parametry przykładowego rozkładu:\n",
    " - intensywność procesu: f(x, y) = x\n",
    " - zakres wartości współrzędnej x: 0-20\n",
    " - zakres wartości współrzędnej y: 0-10"
   ]
  },
  {
   "cell_type": "markdown",
   "id": "6ea79775-19e7-4e7e-9c57-6cdc8efbe6b3",
   "metadata": {
    "deletable": false,
    "editable": false,
    "nbgrader": {
     "cell_type": "markdown",
     "checksum": "0858217a5530df9495298b5df392c3d4",
     "grade": false,
     "grade_id": "cell-60659f7573afdcd7",
     "locked": true,
     "schema_version": 3,
     "solution": false,
     "task": false
    },
    "tags": []
   },
   "source": [
    "#### a) Przygotowanie funkcji"
   ]
  },
  {
   "cell_type": "code",
   "execution_count": 17,
   "id": "347cce1f-b6dd-49bc-8437-c77583c87e6a",
   "metadata": {
    "deletable": false,
    "nbgrader": {
     "cell_type": "code",
     "checksum": "cca76ebae5bc20516fcf8e454838eaa1",
     "grade": true,
     "grade_id": "cell-4258d05645de2b5e",
     "locked": false,
     "points": 8,
     "schema_version": 3,
     "solution": true,
     "task": false
    },
    "tags": []
   },
   "outputs": [],
   "source": [
    "def intensity_function (x,y):\n",
    "    z = x + y\n",
    "    return z\n",
    "\n",
    "def unhomogeneous_poisson_on_rectangle(intensity_function, x_lim, y_lim):\n",
    "    \"\"\"\n",
    "    Parameters\n",
    "    -------\n",
    "    intensity_function: function\n",
    "        Funkcja przyjmująca dwa argumenty (macierz 1D współrzędnych X i macierz 1D współrzędnych Y) i zwracająca macierz 1D\n",
    "        z wartościami funkcji opisującej intensywność procesu dla tych współrzędnych.\n",
    "    x_lim: list\n",
    "        Lista określająca zakres wartości współrzędnej X.\n",
    "        Przykład: [0, 10]\n",
    "    y_lim: list\n",
    "        Lista określająca zakres wartości współrzędnej Y.\n",
    "        Przykład: [0, 10] \n",
    "    \n",
    "    Returns\n",
    "    -------\n",
    "    points: DataFrame\n",
    "        Tablica zawierająca dwie kolumny ze współrzędnymi punktów opisane jako \"X\" i \"Y\".\n",
    "    \"\"\"\n",
    "    # YOUR CODE HERE\n",
    "    \n",
    "    #Tworzę dwie tablice przechowujące 100 liczb między skrajnymi wartościami wspołrzędnych razem tworzących siatkę 100x100\n",
    "    #(potrzebne będzie do określenia maksymalnej wartości intensywności funkcji), poniżej tworzę tablicę stu liczb\n",
    "    x1 = np.array(list(np.linspace(x_lim[0], x_lim[1], 100)))\n",
    "    y1 = np.array(list(np.linspace(y_lim[0], y_lim[1], 100)))\n",
    "    \n",
    "    #Obliczam intensywność funkcji, intensity_function zwraca tablicę wartości tej funkcji i wyłaniamy największą wartość\n",
    "    intensywnosc = max(intensity_function(x1, y1))\n",
    "    \n",
    "    points = pd.DataFrame(columns  = [\"X\", \"Y\"]) #Tworzę DataFrame'a, który będziesz zawierał informacje o współrzędnych punktów\n",
    "    ile = np.random.poisson(intensywnosc*x_lim[1]*y_lim[1]) #Obliczam ile może być punktów losowych funkcją np.random.poisson()\n",
    "    \n",
    "    #Pętla po każdym punkcie losowym\n",
    "    for i in range(ile):\n",
    "        \n",
    "        #Współrzęna = Element losowy w zakresie (zakres = rand(0,1) * (góra - dół) + dół)\n",
    "        x = np.random.rand() * (x_lim[1] - x_lim[0]) + x_lim[0]\n",
    "        y = np.random.rand() * (y_lim[1] - y_lim[0]) + y_lim[0]        \n",
    "        \n",
    "        #Przerzedzamy rozkład usuwając z niego punkty z prawdopodobieństwem równym 1 - i / max(i)\n",
    "        #gdzie:\n",
    "        #i to wartość jaką przyjmuje funkcja intensywności dla współrzędnych danego punktu,\n",
    "        #max(i) to maksymalna wartość jaką funkcja intensywności osiąga w granicach analizowanego obszaru\n",
    "        if 1 - intensity_function(x,y) / intensywnosc <= np.random.rand(): #Realizacja powyższego warunku\n",
    "            \n",
    "            #Tylko pasujące punkty są dodawane do DataFrame'a\n",
    "            #Wstawiam na nowy indeks (indeks o numerze długości DataFrame'a jest o jeden dalej niż dotychczasowy, ostatni indeks)\n",
    "            points.loc[len(points.index)] = [x,y]\n",
    "\n",
    "    return points #Zwracam DataFrame'a z punktami\n",
    "\n",
    "    #raise NotImplementedError()"
   ]
  },
  {
   "cell_type": "markdown",
   "id": "3ad1a551-73f5-4d78-912c-be6d36074a99",
   "metadata": {
    "deletable": false,
    "editable": false,
    "nbgrader": {
     "cell_type": "markdown",
     "checksum": "e6be31b4b3d337bd613ac190d0d7f65a",
     "grade": false,
     "grade_id": "cell-a0c22e157684d027",
     "locked": true,
     "schema_version": 3,
     "solution": false,
     "task": false
    },
    "tags": []
   },
   "source": [
    "#### b) Wygenerowanie procesu"
   ]
  },
  {
   "cell_type": "code",
   "execution_count": 18,
   "id": "c22a456c-f54f-43d0-af79-2b09d2247ac4",
   "metadata": {
    "deletable": false,
    "nbgrader": {
     "cell_type": "code",
     "checksum": "87549909bd498de7886f60995298b295",
     "grade": true,
     "grade_id": "cell-c984d0592d7e762f",
     "locked": false,
     "points": 1,
     "schema_version": 3,
     "solution": true,
     "task": false
    },
    "tags": []
   },
   "outputs": [],
   "source": [
    "# YOUR CODE HERE\n",
    "\n",
    "zad3 = unhomogeneous_poisson_on_rectangle(intensity_function, [0,20], [0,10])\n",
    "\n",
    "# raise NotImplementedError()"
   ]
  },
  {
   "cell_type": "markdown",
   "id": "937dab80-d383-494f-98df-834960c0cd11",
   "metadata": {
    "deletable": false,
    "editable": false,
    "nbgrader": {
     "cell_type": "markdown",
     "checksum": "95efa1ca12acc41204123b9e6aac964f",
     "grade": false,
     "grade_id": "cell-6ad91947ac3ee885",
     "locked": true,
     "schema_version": 3,
     "solution": false,
     "task": false
    },
    "tags": []
   },
   "source": [
    "#### c) Wizualizacja"
   ]
  },
  {
   "cell_type": "code",
   "execution_count": 19,
   "id": "d4e30a73-751e-4218-906a-be83bca81043",
   "metadata": {
    "deletable": false,
    "nbgrader": {
     "cell_type": "code",
     "checksum": "82cae4609a31b97d1bb594db5c1d6239",
     "grade": true,
     "grade_id": "cell-3b2e16df836b7a03",
     "locked": false,
     "points": 1,
     "schema_version": 3,
     "solution": true,
     "task": false
    },
    "tags": []
   },
   "outputs": [
    {
     "data": {
      "text/plain": [
       "Text(0.5, 1.0, 'Niejednorodny proces Poissona')"
      ]
     },
     "execution_count": 19,
     "metadata": {},
     "output_type": "execute_result"
    },
    {
     "data": {
      "image/png": "[encoded data removed]",
      "text/plain": [
       "<Figure size 640x480 with 1 Axes>"
      ]
     },
     "metadata": {},
     "output_type": "display_data"
    }
   ],
   "source": [
    "# YOUR CODE HERE\n",
    "\n",
    "plt.scatter(zad3[\"X\"], zad3[\"Y\"], s = 1)\n",
    "plt.title(\"Niejednorodny proces Poissona\")\n",
    "\n",
    "#raise NotImplementedError()"
   ]
  },
  {
   "cell_type": "markdown",
   "id": "230a135c-32cd-4298-bc5a-882bf85e349f",
   "metadata": {
    "deletable": false,
    "editable": false,
    "nbgrader": {
     "cell_type": "markdown",
     "checksum": "0fb6258d7e3434b70a32ffbadfa2ef15",
     "grade": false,
     "grade_id": "cell-4237381444233047",
     "locked": true,
     "schema_version": 3,
     "solution": false,
     "task": false
    },
    "tags": []
   },
   "source": [
    "### Zadanie 4: Proces punktowy Matérna w obrębie prostokątnego obszaru [10 pkt]\n",
    "\n",
    "Przygotuj funkcję `materna_on_rectangle()`, która będzie generować proces punktowy Materna w obrębie prostokątnego obszaru.\n",
    "Następnie wykorzystaj przygotowaną funkcję do wygenerowania przykładowego rozkładu punktów i przedstaw go w postaci wykresu punktowego.\n",
    "\n",
    "Algorytm postępowania:\n",
    "1. Rozszerzamy analizowany obszar o bufor równy wartości parametru `cluster_radius`.\n",
    "2. W obrębie rozszerzonego obszaru generujemy punkty w wykorzystaniem jednorodnego procesu Poissona o intensywności równej wartości parametru `parent_intensity`.\n",
    "3. Wokół każdego z wygenerowanych punktów (okrąg o promieniu równym wartości parametru `cluster_radius`) generujemy punkty z wykorzystaniem jednorodnego procesu Poissona o intensywności równej wartości parametru `daughter_intensity`.\n",
    "4. Usuwamy z rozkładu wszystkie punkty leżące poza analizowanym (nierozszerzonym) obszarem.\n",
    "\n",
    "Uwaga! Punkty wygenerowane w ramach procesu macierzystego (centra klastrów) nie są częścią wynikowego rozkładu punktów.\n",
    "\n",
    "Parametry przykładowego rozkładu:\n",
    " - intensywność procesu macierzystego: 0.2\n",
    " - intensywność procesu potomnego: 10\n",
    " - promień klastra: 1\n",
    " - zakres wartości współrzędnej x: 0-20\n",
    " - zakres wartości współrzędnej y: 0-10"
   ]
  },
  {
   "cell_type": "markdown",
   "id": "c37a9c58-8a74-424e-b41d-ed5d89aba6f5",
   "metadata": {
    "deletable": false,
    "editable": false,
    "nbgrader": {
     "cell_type": "markdown",
     "checksum": "cc5aeae4babeafb04389de03a3eca7d0",
     "grade": false,
     "grade_id": "cell-5e37ba7995b5a887",
     "locked": true,
     "schema_version": 3,
     "solution": false,
     "task": false
    },
    "tags": []
   },
   "source": [
    "#### a) Przygotowanie funkcji"
   ]
  },
  {
   "cell_type": "code",
   "execution_count": 20,
   "id": "14401c56-c4c0-4a1e-98b4-57225c17eb2a",
   "metadata": {
    "deletable": false,
    "nbgrader": {
     "cell_type": "code",
     "checksum": "7137c3ac996fb65207a35e62cde99cd7",
     "grade": true,
     "grade_id": "cell-37508c39f24a0801",
     "locked": false,
     "points": 8,
     "schema_version": 3,
     "solution": true,
     "task": false
    },
    "tags": []
   },
   "outputs": [],
   "source": [
    "def materna_on_rectangle(parent_intensity, daughter_intensity, cluster_radius, x_lim, y_lim):\n",
    "    \"\"\"\n",
    "    Parameters\n",
    "    -------\n",
    "    parent_intensity: float\n",
    "        Liczba dodatnia określająca intensywność macierzystego procesu punktowego.\n",
    "    daughter_intensity: float\n",
    "        Liczba dodatnia określająca intensywność potomnego procesu punktowego.\n",
    "    cluster_radius: float\n",
    "        Liczba dodatnia określająca promień generowanych klastrów.\n",
    "    x_lim: list\n",
    "        Lista określająca zakres wartości współrzędnej X.\n",
    "        Przykład: [0, 10]\n",
    "    y_lim: list\n",
    "        Lista określająca zakres wartości współrzędnej Y.\n",
    "        Przykład: [0, 10]   \n",
    "    df=pd.DataFrame(columns =[\"X',\"Y\"])\n",
    "    Returns\n",
    "    -------\n",
    "    points: DataFrame\n",
    "        Tablica zawierająca dwie kolumny ze współrzędnymi punktów opisane jako \"X\" i \"Y\".\n",
    "    \"\"\"\n",
    "    # YOUR CODE HERE\n",
    "    \n",
    "    #PROCES RODZICIELSKI\n",
    "    ile = np.random.poisson(parent_intensity * x_lim[1] * y_lim[1]) #Obliczam ile może być punktów losowych rozkładu rodzicielskiego\n",
    "    df_parent =  pd.DataFrame(columns  = [\"X\", \"Y\"]) #DataFrame na punkty procesu rodzicielskiego\n",
    "    \n",
    "    #Współrzędne punktów procesu rodzicielskiego\n",
    "    for i in range(ile):\n",
    "        x = np.random.rand() * (x_lim[1] - x_lim[0]) + x_lim[0]\n",
    "        y = np.random.rand() * (y_lim[1] - y_lim[0]) + y_lim[0]\n",
    "        df_parent.loc[len(df_parent.index)] = [x,y]\n",
    "    \n",
    "    #PROCES POTOMNY\n",
    "    points = pd.DataFrame(columns  = [\"X\", \"Y\"]) #DataFrame na punkty procesu potomnego\n",
    "    liczba_punktow_procesu = int(daughter_intensity*np.pi*cluster_radius**2) #liczba punktów procesu potomnego dla pętli for liczba = intensywnosc * pole\n",
    "    \n",
    "    #Pętla przebiegająca po każdym skupieniu\n",
    "    for i in range(ile): \n",
    "         #Pętla przebiegająca po każdym punkcie w danym skupieniu\n",
    "        for j in range(liczba_punktow_procesu):\n",
    "            \n",
    "            #Generuję punkt w procesie równomiernego rozłożenia w kole\n",
    "            angle = np.random.rand() * 2 * np.pi #losowy kąt\n",
    "            radius = cluster_radius * np.sqrt(np.random.rand()) #losowy promień\n",
    "            \n",
    "            #Współrzędne punktu w kole względem jego środka\n",
    "            x_wsp_rand = np.cos(angle) * radius\n",
    "            y_wsp_rand = np.sin(angle) * radius\n",
    "            \n",
    "            #Dodaję współrzędne środka koła (skupienia) do współrzędnych punktu, żeby przypisać go do danego skupienia\n",
    "            x = x_wsp_rand + df_parent[\"X\"][i]\n",
    "            y = y_wsp_rand + df_parent[\"Y\"][i]\n",
    "            \n",
    "            #Warunek czy dany punkt znajduje się w zakresie ustalonym w parametrach funkcji (x_lim i y_lim)\n",
    "            if x <= x_lim[1] and y <= y_lim[1] and x >= x_lim[0] and y >= y_lim[0]:\n",
    "                \n",
    "                #Tylko punkty znajdujące się w prostokącie zostają dopisane do DataFrame'a\n",
    "                #Wstawiam na nowy indeks (indeks o numerze długości DataFrame'a jest o jeden dalej niż dotychczasowy, ostatni indeks)\n",
    "                points.loc[len(points.index)] = [x,y]\n",
    "                \n",
    "    return points #Zwracam DataFrame'a\n",
    "\n",
    "# raise NotImplementedError()"
   ]
  },
  {
   "cell_type": "markdown",
   "id": "83c2e40b-d5a9-4f67-ae1b-4ec922640651",
   "metadata": {
    "deletable": false,
    "editable": false,
    "nbgrader": {
     "cell_type": "markdown",
     "checksum": "0be2348b2488a610421ec91812d62dbc",
     "grade": false,
     "grade_id": "cell-fcf75d96fb89b7d6",
     "locked": true,
     "schema_version": 3,
     "solution": false,
     "task": false
    },
    "tags": []
   },
   "source": [
    "#### b) Wygenerowanie procesu"
   ]
  },
  {
   "cell_type": "code",
   "execution_count": 21,
   "id": "ce5c3076-c892-426f-9737-843b18547e0d",
   "metadata": {
    "deletable": false,
    "nbgrader": {
     "cell_type": "code",
     "checksum": "dd0a9acec0c4a120862ba2163a4cd0af",
     "grade": true,
     "grade_id": "cell-e238abba88319235",
     "locked": false,
     "points": 1,
     "schema_version": 3,
     "solution": true,
     "task": false
    },
    "tags": []
   },
   "outputs": [],
   "source": [
    "# YOUR CODE HERE\n",
    "zad4 = materna_on_rectangle(0.1, 10, 1, [0,15], [0,10])\n",
    "\n",
    "# raise NotImplementedError()"
   ]
  },
  {
   "cell_type": "markdown",
   "id": "b01dd60b-c010-4ec3-b93b-d5d45a720c60",
   "metadata": {
    "deletable": false,
    "editable": false,
    "nbgrader": {
     "cell_type": "markdown",
     "checksum": "ecc121d28e2d7677d0d5a1e2fd1bc772",
     "grade": false,
     "grade_id": "cell-833026efe8749cb0",
     "locked": true,
     "schema_version": 3,
     "solution": false,
     "task": false
    },
    "tags": []
   },
   "source": [
    "#### c) Wizualizacja"
   ]
  },
  {
   "cell_type": "code",
   "execution_count": 22,
   "id": "46e56f79-a365-4c8f-ae94-8e334575ecce",
   "metadata": {
    "deletable": false,
    "nbgrader": {
     "cell_type": "code",
     "checksum": "562035293eb5d2bfc82111af93d95dff",
     "grade": true,
     "grade_id": "cell-7252b987abdc121f",
     "locked": false,
     "points": 1,
     "schema_version": 3,
     "solution": true,
     "task": false
    },
    "tags": []
   },
   "outputs": [
    {
     "data": {
      "text/plain": [
       "Text(0.5, 1.0, 'klastrowy o rozkładzie jednorodnym')"
      ]
     },
     "execution_count": 22,
     "metadata": {},
     "output_type": "execute_result"
    },
    {
     "data": {
      "image/png": "[encoded data removed]",
      "text/plain": [
       "<Figure size 640x480 with 1 Axes>"
      ]
     },
     "metadata": {},
     "output_type": "display_data"
    }
   ],
   "source": [
    "# YOUR CODE HERE\n",
    "\n",
    "plt.scatter(zad4[\"X\"], zad4[\"Y\"], s = 5) #wizualizacja procesu potomnego\n",
    "plt.suptitle(\"Proces Materna\")\n",
    "plt.title(\"klastrowy o rozkładzie jednorodnym\", fontsize = 8)\n",
    "\n",
    "#raise NotImplementedError()"
   ]
  },
  {
   "cell_type": "markdown",
   "id": "afeff17a-1d9e-450d-bf20-63f88d6f0618",
   "metadata": {
    "deletable": false,
    "editable": false,
    "nbgrader": {
     "cell_type": "markdown",
     "checksum": "8cfa6ed47333ead3020bcbffc9e94cd6",
     "grade": false,
     "grade_id": "cell-099d07d8447d3a89",
     "locked": true,
     "schema_version": 3,
     "solution": false,
     "task": false
    },
    "tags": []
   },
   "source": [
    "### Zadanie 5: Proces punktowy Thomasa w obrębie prostokątnego obszaru [10 pkt]\n",
    "\n",
    "Przygotuj funkcję `thomas_on_rectangle()`, która będzie generować proces punktowy Thomasa w obrębie prostokątnego obszaru.\n",
    "Następnie wykorzystaj przygotowaną funkcję do wygenerowania przykładowego rozkładu punktów i przedstaw go w postaci wykresu punktowego.\n",
    "\n",
    "Algorytm postępowania:\n",
    "1. Rozszerzamy analizowany obszar o bufor, którego wielkość jest zależna od wartości parametru `cluster_sigma` (na potrzeby zadania przyjmijmy 4-krotność wartości tego parametru).\n",
    "2. W obrębie rozszerzonego obszaru generujemy punkty w wykorzystaniem jednorodnego procesu Poissona o intensywności równej wartości parametru `parent_intensity`.\n",
    "3. Dla każdego z wygenerowanych punktów (centrów klastrów):\n",
    "    - Losujemy liczbę punktów znajdujących się w obrębie danego klastra $n_c$ z rozkładu Poissona o wartości oczekiwanej równej wartości parametru `mean_cluster_size`.\n",
    "    - Niezależnie od siebie losujemy wartości współrzędnych $n_c$ punktów z rozkładów normalnych o wartości oczekiwanej równej współrzędnej punktu stanowiącego centrum klastra i odchyleniu standardowym równym wartości parametru `cluster_sigma`.\n",
    "4. Usuwamy z rozkładu wszystkie punkty leżące poza analizowanym (nierozszerzonym) obszarem.\n",
    "\n",
    "Uwaga! Punkty wygenerowane w ramach procesu macierzystego (centra klastrów) nie są częścią wynikowego rozkładu punktów.\n",
    "\n",
    "Parametry przykładowego rozkładu:\n",
    " - intensywność procesu macierzystego: 0.2\n",
    " - średnia liczebność klastra: 30\n",
    " - odchylenie standardowe klastra: 0.5\n",
    " - zakres wartości współrzędnej x: 0-20\n",
    " - zakres wartości współrzędnej y: 0-10"
   ]
  },
  {
   "cell_type": "markdown",
   "id": "62ba6535-f90b-411c-94af-a560eef05dce",
   "metadata": {
    "deletable": false,
    "editable": false,
    "nbgrader": {
     "cell_type": "markdown",
     "checksum": "81d073c230dd9533cdcd9cd74f54519d",
     "grade": false,
     "grade_id": "cell-5174983fa830fdbc",
     "locked": true,
     "schema_version": 3,
     "solution": false,
     "task": false
    },
    "tags": []
   },
   "source": [
    "#### a) Przygotowanie funkcji"
   ]
  },
  {
   "cell_type": "code",
   "execution_count": 171,
   "id": "9692a28c-fa34-45e9-b018-1740dd8daf21",
   "metadata": {
    "deletable": false,
    "nbgrader": {
     "cell_type": "code",
     "checksum": "f11dc555eb658dae00830e673d1c2483",
     "grade": true,
     "grade_id": "cell-4486abd11db366a8",
     "locked": false,
     "points": 8,
     "schema_version": 3,
     "solution": true,
     "task": false
    },
    "tags": []
   },
   "outputs": [],
   "source": [
    "def thomas_on_rectangle(parent_intensity, mean_cluster_size, cluster_sigma, x_lim, y_lim):\n",
    "    \"\"\"\n",
    "    Parameters\n",
    "    -------\n",
    "    parent_intensity: float\n",
    "        Liczba dodatnia określająca intensywność macierzystego procesu punktowego.\n",
    "    mean_cluster_size: float\n",
    "        Liczba dodatnia określająca oczekiwaną liczebność generowanych klastrów.\n",
    "    cluster_sigma: float\n",
    "        Liczba dodatnia określająca odchylenie standardowe rozkładu wykorzystywanego w procesie generowania klastrów.\n",
    "    x_lim: list\n",
    "        Lista określająca zakres wartości współrzędnej X.\n",
    "        Przykład: [0, 10]\n",
    "    y_lim: list\n",
    "        Lista określająca zakres wartości współrzędnej Y.\n",
    "        Przykład: [0, 10]   \n",
    "    \n",
    "    Returns\n",
    "    -------\n",
    "    points: DataFrame\n",
    "        Tablica zawierająca dwie kolumny ze współrzędnymi punktów opisane jako \"X\" i \"Y\".\n",
    "    \"\"\"\n",
    "    \n",
    "    # YOUR CODE HERE\n",
    "    \n",
    "    #PROCES RODZICIELSKI\n",
    "    ile = np.random.poisson(parent_intensity * x_lim[1] * y_lim[1]) #Obliczam ile może być punktów losowych rozkładu rodzicielskiego\n",
    "    df_parent =  pd.DataFrame(columns  = [\"X\", \"Y\"]) #DataFrame na punkty procesu rodzicielskiego\n",
    "    \n",
    "    #Współrzędne punktów procesu rodzicielskiego\n",
    "    for i in range(ile):\n",
    "        x = np.random.rand() * (x_lim[1] - x_lim[0]) + x_lim[0]\n",
    "        y = np.random.rand() * (y_lim[1] - y_lim[0]) + y_lim[0]\n",
    "        df_parent.loc[len(df_parent.index)] = [x,y]\n",
    "    \n",
    "    #Tablica z liczbą punktów w każdym skupieniu\n",
    "    cluster_sizes = np.zeros((ile,), dtype=int) #Inicjacja tablicy\n",
    "    cluster_sizes[:] = [int(np.random.poisson(mean_cluster_size)) for i in range(ile)] #Przypisanie losowych liczb na podstawie oczekiwanej liczebności generowanych klastrów\n",
    "    \n",
    "    #PROCES POTOMNY\n",
    "    points = pd.DataFrame(columns = [\"X\", \"Y\"]) #DataFrame na punkty procesu potomnego\n",
    "    \n",
    "    #Pętla przebiegająca po każdym skupieniu\n",
    "    for i in range(ile):\n",
    "        #Pętla przebiegająca po każdym punkcie w danym skupieniu (ilość punktów w skupieniu - cluster_sizes[i])\n",
    "        for j in range(cluster_sizes[i]):\n",
    "            \n",
    "            #Generuję losową zmienną dla współrzędnych z rozkładu losowego\n",
    "            x_wsp_rand = np.random.normal(0, cluster_sigma)\n",
    "            y_wsp_rand = np.random.normal(0, cluster_sigma)\n",
    "            \n",
    "            #Dodaję współrzędne środka koła (skupienia) do współrzędnych punktu, żeby przypisać go do danego skupienia\n",
    "            x = x_wsp_rand + df_parent[\"X\"][i]\n",
    "            y = y_wsp_rand + df_parent[\"Y\"][i]\n",
    "            \n",
    "            #Warunek czy dany punkt znajduje się w zakresie ustalonym w parametrach funkcji (x_lim i y_lim)\n",
    "            if x <= x_lim[1] and y <= y_lim[1] and x >= x_lim[0] and y >= y_lim[0]:\n",
    "                \n",
    "                #Tylko punkty znajdujące się w prostokącie zostają dopisane do DataFrame'a\n",
    "                #Wstawiam na nowy indeks (indeks o numerze długości DataFrame'a jest o jeden dalej niż dotychczasowy, ostatni indeks)\n",
    "                points.loc[len(points.index)] = [x,y]\n",
    "   \n",
    "\n",
    "    return points #Zwracam DataFrame'a\n",
    "    \n",
    "   # raise NotImplementedError()"
   ]
  },
  {
   "cell_type": "markdown",
   "id": "7a597dbd-b898-4135-b71a-d28d9fdd67d8",
   "metadata": {
    "deletable": false,
    "editable": false,
    "nbgrader": {
     "cell_type": "markdown",
     "checksum": "20f4943cffe977d2e90d6497bf2d74ba",
     "grade": false,
     "grade_id": "cell-0767c98d41be3cdd",
     "locked": true,
     "schema_version": 3,
     "solution": false,
     "task": false
    },
    "tags": []
   },
   "source": [
    "#### b) Wygenerowanie procesu"
   ]
  },
  {
   "cell_type": "code",
   "execution_count": 173,
   "id": "046ffc88-c6b8-4759-ae63-e1393087c7f2",
   "metadata": {
    "deletable": false,
    "nbgrader": {
     "cell_type": "code",
     "checksum": "7fd1efdbc4bc1d390bd147bb9cf4b2f1",
     "grade": true,
     "grade_id": "cell-d8638120ca6439db",
     "locked": false,
     "points": 1,
     "schema_version": 3,
     "solution": true,
     "task": false
    },
    "tags": []
   },
   "outputs": [],
   "source": [
    "# YOUR CODE HERE\n",
    "\n",
    "zad5 = thomas_on_rectangle(0.2, 30, 0.5, [0,20], [0,10])\n",
    "\n",
    "# raise NotImplementedError()"
   ]
  },
  {
   "cell_type": "markdown",
   "id": "4594cc9d-323e-477f-8716-b84b7b75bad8",
   "metadata": {
    "deletable": false,
    "editable": false,
    "nbgrader": {
     "cell_type": "markdown",
     "checksum": "7c7d29712e4162f96947b336c168049e",
     "grade": false,
     "grade_id": "cell-a072e12cb25e9ba7",
     "locked": true,
     "schema_version": 3,
     "solution": false,
     "task": false
    },
    "tags": []
   },
   "source": [
    "#### c) Wizualizacja"
   ]
  },
  {
   "cell_type": "code",
   "execution_count": 185,
   "id": "ca67d3dd-09a3-4b7e-9276-b47d7a2b1540",
   "metadata": {
    "deletable": false,
    "nbgrader": {
     "cell_type": "code",
     "checksum": "1e964e093ea2d69d40974d3bcd2b227d",
     "grade": true,
     "grade_id": "cell-0e700b0a0fdef851",
     "locked": false,
     "points": 1,
     "schema_version": 3,
     "solution": true,
     "task": false
    },
    "tags": []
   },
   "outputs": [
    {
     "data": {
      "text/plain": [
       "Text(0.5, 1.0, 'klastrowy o rozkładzie normalnym    ')"
      ]
     },
     "execution_count": 185,
     "metadata": {},
     "output_type": "execute_result"
    },
    {
     "data": {
      "image/png": "[encoded data removed]",
      "text/plain": [
       "<Figure size 432x288 with 1 Axes>"
      ]
     },
     "metadata": {
      "needs_background": "light"
     },
     "output_type": "display_data"
    }
   ],
   "source": [
    "# YOUR CODE HERE\n",
    "\n",
    "plt.scatter(zad5[\"X\"], zad5[\"Y\"], s = 5) #wizualizacja procesu potomnego\n",
    "plt.suptitle(\"Proces Thomasa\")\n",
    "plt.title(\"klastrowy o rozkładzie normalnym    \", fontsize = 8)\n",
    "\n",
    "# raise NotImplementedError()"
   ]
  }
 ],
 "metadata": {
  "kernelspec": {
   "display_name": "Python 3 (ipykernel)",
   "language": "python",
   "name": "python3"
  },
  "language_info": {
   "codemirror_mode": {
    "name": "ipython",
    "version": 3
   },
   "file_extension": ".py",
   "mimetype": "text/x-python",
   "name": "python",
   "nbconvert_exporter": "python",
   "pygments_lexer": "ipython3",
   "version": "3.10.7"
  },
  "nteract": {
   "version": "nteract-front-end@1.0.0"
  }
 },
 "nbformat": 4,
 "nbformat_minor": 5
}
