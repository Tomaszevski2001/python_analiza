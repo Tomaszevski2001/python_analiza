{
 "cells": [
  {
   "cell_type": "markdown",
   "id": "3eaa2acf",
   "metadata": {
    "deletable": false,
    "editable": false,
    "nbgrader": {
     "cell_type": "markdown",
     "checksum": "a4d572b9cb35f7417343f3db3cd5a898",
     "grade": false,
     "grade_id": "cell-fcd2666579131b77",
     "locked": true,
     "schema_version": 3,
     "solution": false,
     "task": false
    },
    "tags": []
   },
   "source": [
    "# Analiza danych przestrzennych - ćwiczenia laboratoryjne 2022/2023\n",
    "\n",
    "Ten notatnik zalicza się do grupy zestawów zadań, na podstawie których odbywa się zaliczenie ćwiczeń i podlega zwrotowi do oceny w ustalonym na zajęciach terminie.\n",
    "\n",
    "Uwagi ogólne:\n",
    "- Podczas wykonywania zadań należy korzystać wyłącznie z pakietów zaimportowanych na początku notatnika oraz z pakietów wchodzących w skład standardowej biblioteki Pythona, które można zaimportować samodzielnie we wskazanej komórce.\n",
    "- Swoje rozwiązania należy wprowadzać wyłącznie w miejce następujących fragmentów kodu:<br/> ` # YOUR CODE HERE`<br/> ` raise NotImplementedError()`<br/> Nie należy w żaden sposób modyfikować pozostałych fragmentów kodu oraz elementów notatnika, w szczególności dodawać lub usuwać komórek oraz zmieniać nazwy pliku.\n",
    "- Jeżeli zestaw zadań wymaga skorzystania z funkcji przygotowanych w ramach wcześniejszych zestawów zadań należy je umieścić we wskazanej komórce.\n",
    "- Wszystkie wykresy powinny być wykonane w jednolitym, przejrzystym i czytelnym stylu, mieć nadane tytuły, opisane osie oraz odpowiednio dobrany rozmiar, wielkość punktów i grubość linii. Proporcje osi wykresów przedstawiających rozkłady punktów powinny być dobrane tak, aby wykresy odzwierciedlały rzeczywisty rozkład punktów w przestrzeni.\n",
    "- Zadania, które powodują wyświetlenie komunikatu o błędzie przerywającym wykonywanie kodu nie podlegają ocenie.\n",
    "\n",
    "Przed odesłaniem zestawu zadań do oceny proszę uzupełnić komórkę z danymi autorów rozwiązania (`NAME` - nazwa grupy, `COLLABORATORS` - imiona, nazwiska i numery indeksów członków grupy) oraz upewnić się, że notatnik działa zgodnie z oczekiwaniami. W tym celu należy skorzystać z opcji **Restart Kernel and Run All Cells...** dostępnej na górnej belce notatnika pod symbolem $\\blacktriangleright\\blacktriangleright$. "
   ]
  },
  {
   "cell_type": "code",
   "execution_count": 1,
   "id": "a5fb84b8",
   "metadata": {},
   "outputs": [],
   "source": [
    "NAME = \"GIN21\"\n",
    "COLLABORATORS = \"Szymon Marczak 405302, Dawid Makowski 407894, Tomasz Sanicki 408056\""
   ]
  },
  {
   "cell_type": "markdown",
   "id": "407e6a32",
   "metadata": {
    "deletable": false,
    "editable": false,
    "nbgrader": {
     "cell_type": "markdown",
     "checksum": "eddc8826810e4a6f7bf68319da334bd9",
     "grade": false,
     "grade_id": "cell-109006d425e5cf83",
     "locked": true,
     "schema_version": 3,
     "solution": false,
     "task": false
    },
    "tags": []
   },
   "source": [
    "---"
   ]
  },
  {
   "cell_type": "markdown",
   "id": "2542c24c",
   "metadata": {
    "deletable": false,
    "editable": false,
    "nbgrader": {
     "cell_type": "markdown",
     "checksum": "62c6d1377b92635ef278c94e21e7e9ab",
     "grade": false,
     "grade_id": "cell-be413733df21fa86",
     "locked": true,
     "schema_version": 3,
     "solution": false,
     "task": false
    },
    "tags": []
   },
   "source": [
    "## Zestaw zadań 9: Analiza danych przestrzennych z wykorzystaniem pakietów GeoPandas i PySAL (część 3)"
   ]
  },
  {
   "cell_type": "code",
   "execution_count": 4,
   "id": "a12ba67f",
   "metadata": {
    "deletable": false,
    "editable": false,
    "nbgrader": {
     "cell_type": "code",
     "checksum": "29dc1af3dadc2aa89c6596343c570512",
     "grade": false,
     "grade_id": "cell-baaf088fa7f91aec",
     "locked": true,
     "schema_version": 3,
     "solution": false,
     "task": false
    },
    "tags": []
   },
   "outputs": [
    {
     "ename": "ModuleNotFoundError",
     "evalue": "No module named 'libpysal'",
     "output_type": "error",
     "traceback": [
      "\u001b[1;31m---------------------------------------------------------------------------\u001b[0m",
      "\u001b[1;31mModuleNotFoundError\u001b[0m                       Traceback (most recent call last)",
      "Cell \u001b[1;32mIn [4], line 8\u001b[0m\n\u001b[0;32m      6\u001b[0m \u001b[38;5;28;01mimport\u001b[39;00m \u001b[38;5;21;01mseaborn\u001b[39;00m \u001b[38;5;28;01mas\u001b[39;00m \u001b[38;5;21;01msns\u001b[39;00m\n\u001b[0;32m      7\u001b[0m \u001b[38;5;28;01mimport\u001b[39;00m \u001b[38;5;21;01mgeopandas\u001b[39;00m \u001b[38;5;28;01mas\u001b[39;00m \u001b[38;5;21;01mgpd\u001b[39;00m\n\u001b[1;32m----> 8\u001b[0m \u001b[38;5;28;01mimport\u001b[39;00m \u001b[38;5;21;01mlibpysal\u001b[39;00m \u001b[38;5;28;01mas\u001b[39;00m \u001b[38;5;21;01mps\u001b[39;00m\n\u001b[0;32m      9\u001b[0m \u001b[38;5;28;01mimport\u001b[39;00m \u001b[38;5;21;01mpointpats\u001b[39;00m \u001b[38;5;28;01mas\u001b[39;00m \u001b[38;5;21;01mpp\u001b[39;00m\n\u001b[0;32m     11\u001b[0m \u001b[38;5;28;01mimport\u001b[39;00m \u001b[38;5;21;01mwarnings\u001b[39;00m\n",
      "\u001b[1;31mModuleNotFoundError\u001b[0m: No module named 'libpysal'"
     ]
    }
   ],
   "source": [
    "import numpy as np\n",
    "import pandas as pd\n",
    "import scipy as sp\n",
    "import matplotlib as mpl\n",
    "import matplotlib.pyplot as plt\n",
    "import seaborn as sns\n",
    "import geopandas as gpd\n",
    "import libpysal as ps\n",
    "import pointpats as pp\n",
    "\n",
    "import warnings\n",
    "warnings.simplefilter(action='ignore', category=FutureWarning)"
   ]
  },
  {
   "cell_type": "code",
   "execution_count": 79,
   "id": "1b0839b6",
   "metadata": {},
   "outputs": [],
   "source": [
    "# Miejsce do importu pakietów wchodzących w skład standardowej biblioteki Pythona oraz ustawienie opcji wykorzystywanych pakietów"
   ]
  },
  {
   "cell_type": "code",
   "execution_count": null,
   "id": "d006f9ac",
   "metadata": {
    "deletable": false,
    "nbgrader": {
     "cell_type": "code",
     "checksum": "5e21d8dca6b79b399dc8ed524cfa7b27",
     "grade": true,
     "grade_id": "cell-a46c08df43df6fd7",
     "locked": false,
     "points": 0,
     "schema_version": 3,
     "solution": true,
     "task": false
    },
    "tags": []
   },
   "outputs": [],
   "source": [
    "# Miejsce do wklejenie funkcji ze wcześniejszych zestawów zadań\n",
    "# YOUR CODE HERE\n",
    "\n",
    "\n",
    "def g_function_poisson(d, intensity):\n",
    "\n",
    "    #Wyliczam teoretyczną wartość funkcji G na podstawie wzoru, mając już wcześniej wyliczone unikalne wartości odległości do najbliższego sąsiada\n",
    "    G = 1 - np.exp(-intensity * np.pi * d**2)\n",
    "    \n",
    "    g = pd.DataFrame({'D':d, 'G':G})\n",
    "    \n",
    "    g.loc[-1] = [0, 0]  #Dodaję na początek tablicy punkt [0,0]\n",
    "    g.index = g.index + 1  #Przesuwanie indeksu, żeby nie było -1\n",
    "    g.sort_index(inplace = True)\n",
    "    \n",
    "    return(g)\n",
    "\n",
    "def g_function(points, intervals):\n",
    "  \n",
    "  # YOUR CODE HERE\n",
    "\n",
    "    tab = np.zeros((len(points), 2)) #Tworzę tablicę na współrzędne punktów\n",
    "    \n",
    "    #Konwersja typu 'geometry' na tablicę współrzędnych\n",
    "    tab[:,0] = points[\"geometry\"].x\n",
    "    tab[:,1] = points[\"geometry\"].y\n",
    "    \n",
    "    g_tuple = pp.distance_statistics.g(tab, support = intervals) #Obliczam statystykę G na danym procesie punktowym\n",
    "    g = pd.DataFrame({\"D\": g_tuple[0], \"G\": g_tuple[1]}) #Wpisuję dane z tabeli do DataFrame'a\n",
    "\n",
    "    return(g) #Zwracam DataFrame'a\n",
    "\n",
    "def intensity_on_subregions(points, subregions):\n",
    "  \n",
    "    # YOUR CODE HERE\n",
    "    \n",
    "    x = point_count_on_subregions(points, subregions) #Wywołuję pierwszą funkcję na punktach i powiatach\n",
    "    pole = gpd.GeoSeries(data = subregions[\"geometry\"]).area #Obliczam pole każdego powiatu\n",
    "    tab = np.zeros(len(subregions)) #Tworzę tablicę na intensywność procesu w każdym powiecie\n",
    "    \n",
    "    for i in range (len(subregions)): #Dla każdego powiatu\n",
    "        tab[i] = x[i] / pole[i] #Obliczam intensywność każdego powiatu\n",
    "    \n",
    "    return pd.Series(data = tab) #Zwracam serię\n",
    "    "
   ]
  },
  {
   "cell_type": "markdown",
   "id": "b010c980",
   "metadata": {
    "deletable": false,
    "editable": false,
    "nbgrader": {
     "cell_type": "markdown",
     "checksum": "ce342baf7e0f810bc9ae826b7dcea483",
     "grade": false,
     "grade_id": "cell-f9831d700fb0566c",
     "locked": true,
     "schema_version": 3,
     "solution": false,
     "task": false
    },
    "tags": []
   },
   "source": [
    "#### UWAGA!\n",
    "Znaczna część przykładów i dokumentacji modułów wchodzących w skład pakietu pysal dostępna w internecie nie dotyczny ich najnowszych wersji.\n",
    "Z tego powodu lepiej jest zdobywać informacje na temat wykorzystywanych modułów, klas i funkcji z wykorzystaniem funkcji help(), np.: help(ps), help(pp), help(pp.pointpattern)."
   ]
  },
  {
   "cell_type": "markdown",
   "id": "023e52d6",
   "metadata": {
    "deletable": false,
    "editable": false,
    "nbgrader": {
     "cell_type": "markdown",
     "checksum": "cd33728a246ab1fdf6f15d3fbca9f2ab",
     "grade": false,
     "grade_id": "cell-3d9b6dc04e7b8e64",
     "locked": true,
     "schema_version": 3,
     "solution": false,
     "task": false
    },
    "tags": []
   },
   "source": [
    "### Import i przygotowanie danych\n",
    "Wykorzystując funkcję `geopandas.read_file()` zaimportuj do notatnika dane z dołączonych do niego plików (zakres importowanych danych i odwzorowanie kartograficzne nie wymagają zmian). Następnie, wykorzystując funkcję `geopandas.GeoDataFrame.dissolve()` przygotuj tablicę zawierającą geometrię granic całego kraju. Dostosuj informację znajdującą się w kolumnie \"Nazwa\" stworzonej tablicy do informacji w niej zawartej.\n",
    "\n",
    "UWAGA! Import i przygotowanie danych identyczne jak w poprzednim zestawie."
   ]
  },
  {
   "cell_type": "code",
   "execution_count": null,
   "id": "c7409847",
   "metadata": {
    "deletable": false,
    "nbgrader": {
     "cell_type": "code",
     "checksum": "43c81c920584796425ffe70816bfb4d0",
     "grade": true,
     "grade_id": "cell-9c5827e1303cedf5",
     "locked": false,
     "points": 0,
     "schema_version": 3,
     "solution": true,
     "task": false
    },
    "tags": []
   },
   "outputs": [],
   "source": [
    "# YOUR CODE HERE\n",
    "\n",
    "p1 = gpd.read_file(\"points_1.zip\") \n",
    "p2 = gpd.read_file(\"points_2.zip\") \n",
    "p3 = gpd.read_file(\"points_3.zip\") \n",
    "p4 = gpd.read_file(\"points_4.zip\") \n",
    "p5 = gpd.read_file(\"points_5.zip\") \n",
    "powiaty = gpd.read_file(\"Powiaty.zip\") \n",
    "powiaty = powiaty.to_crs(2180)\n",
    "pol = powiaty.dissolve()\n",
    "#raise NotImplementedError()"
   ]
  },
  {
   "cell_type": "markdown",
   "id": "89353a1a",
   "metadata": {
    "deletable": false,
    "editable": false,
    "nbgrader": {
     "cell_type": "markdown",
     "checksum": "4a00472675c9ce162e799e943b9713a5",
     "grade": false,
     "grade_id": "cell-f97f53b73dba357b",
     "locked": true,
     "schema_version": 3,
     "solution": false,
     "task": false
    },
    "tags": []
   },
   "source": [
    "### Zadanie 1: Analiza Monte-Carlo na przykładzie funkcji G (25 pkt)\n",
    "\n",
    "Korzystając z funkcji `pointpats.distance_statistics.g_test()` przygotuj funkcję `g_test_mc()`, która będzie przeprowadzała analizę Monte-Carlo testowanego rozkładu funkcji oraz przygotowywała dane niezbędne do wizualizacji wyników testu.\n",
    "\n",
    "Funkcja `pointpats.distance_statistics.g_test()` może zostać wykorzystana do wielokrotnego zasymulowania jednorodnego procesu poissona o intensywności równej intensywności testowanego procesu i wyliczeniu funkcji G dla każdego z zasymulowanych rozkładów. Funkcje te mogą posłużyć do wykreślenia obwiedni. Jeżeli funkcja G analizowanego rozkładu w całości znajduje się w obwiedni to nie pa podstaw do odrzucenia HO na rzecz H1. W przeciwnym przypadku następuje odrzucenie H0 na rzecz H1. Poziom istotności wykonywanego testu $\\alpha= \\frac{2}{n-1}$, gdzie $n$ to liczba wykonywanych symulacji.\n",
    "\n",
    "Następnie wykorzystaj przygotowane funkcje do przetestowania rozkładów punktów z plików points_1.zip, points_2.zip i points_3.zip na poziomie istotności $\\alpha=0.05$. \n",
    "\n",
    "Przedstaw wyniki analizy graficznie w postaci wykresów liniowych funkcji G przygotowanych rozkładów punktów z wygenerowaną obwiednią wykorzystywaną w teście statystycznym. Zestaw wyniki na pojedynczej figurze (siatka wykresów 2x3). Umieść analizowane rozkłady punktów w górnym wierszu, a wykresy funkcji G w dolnym wierszu figury. <br/>\n",
    "\n",
    "Przykładowe wyniki pracy funkcji `g_test_mc()`: <br/>\n",
    "<br/>\n",
    "`H0: Testowana zmienna ma jednorodny rozkład losowy Poissona` <br/>\n",
    "`H1: Testowana zmienna nie ma jednorodnego rozkład losowy Poissona` <br/>\n",
    "`Odrzucenie H0 na rzecz H1 na poziomie istotności alpha = 0.02` <br/>\n",
    "<br/>\n",
    "`H0: Testowana zmienna ma jednorodny rozkład losowy Poissona` <br/>\n",
    "`H1: Testowana zmienna nie ma jednorodnego rozkład losowy Poissona` <br/>\n",
    "`Wynik testu istotności nie daje podstaw do odrzucenia H0 na rzecz H1 na poziomie istotności alpha = 0.02` <br/>"
   ]
  },
  {
   "cell_type": "markdown",
   "id": "8d41f25a",
   "metadata": {
    "deletable": false,
    "editable": false,
    "nbgrader": {
     "cell_type": "markdown",
     "checksum": "a16f2ba4a4548934aa1656485c85fea9",
     "grade": false,
     "grade_id": "cell-813bd1ab8035432d",
     "locked": true,
     "schema_version": 3,
     "solution": false,
     "task": false
    },
    "tags": []
   },
   "source": [
    "#### a) Przygotowanie funkcji"
   ]
  },
  {
   "cell_type": "code",
   "execution_count": null,
   "id": "d473c38a",
   "metadata": {
    "deletable": false,
    "nbgrader": {
     "cell_type": "code",
     "checksum": "23bf815f05e648189408db667fe29b90",
     "grade": true,
     "grade_id": "cell-2546f8cdd036ac88",
     "locked": false,
     "points": 16,
     "schema_version": 3,
     "solution": true,
     "task": false
    },
    "tags": []
   },
   "outputs": [],
   "source": [
    "def g_test_mc(points, intervals, polygon, number_of_simulations):\n",
    "    \"\"\"\n",
    "    Parameters\n",
    "    -------\n",
    "    points: GeoSeries\n",
    "        Tablica zawierająca punkty zapisane jako obiekty shapely.geometry.point.Point.\n",
    "    intervals: int\n",
    "        Liczba dodatnia określająca na ile części ma zostać podzielony dystans do największej odległosci do najbliższego sąsiada.\n",
    "    polygon: Polygon\n",
    "        Obszar, na którym mają zostać wygenerowane punkty procesu testowego.\n",
    "    number_of_simulations: int\n",
    "        Liczba dodania określająca liczbę wykonywanych symulacji.\n",
    "    \n",
    "    Returns\n",
    "    -------\n",
    "    g: DataFrame\n",
    "        Tablica zawierająca dwie kolumny:\n",
    "        - \"D\" - zawierającą unikalne wartości odległości do najbliższego sąsiada uszeregowane od najmniejszej do największej wartości, dla których wyliczone zostały wartości funkcji G,\n",
    "        - \"G\" - zawierającą wyliczone wartości funkcji G.\n",
    "        - \"G_min\" - zawierającą dolne wartości obwiedni funkcji G.\n",
    "        - \"G_max\" - zawierającą górne wartości obwiedni funkcji G.\n",
    "    \"\"\"  \n",
    "    # YOUR CODE HERE\n",
    "    alfa = 2/(number_of_simulations - 1)\n",
    "    gf = g_function(points, intervals)\n",
    "    \n",
    "    coords=np.array(list(zip(points[\"geometry\"].x,points[\"geometry\"].y)))\n",
    "   \n",
    "    gt=pp.distance_statistics.g_test(coords,support=intervals,n_simulations=number_of_simulations,keep_simulations=True,hull=polygon)\n",
    "    \n",
    "\n",
    "    gmin=np.zeros(intervals)\n",
    "    gmax=np.zeros(intervals)\n",
    "    for i in range(intervals):\n",
    "        gmin[i]=np.min(gt.simulations[:,i])\n",
    "        gmax[i]=np.max(gt.simulations[:,i])\n",
    "\n",
    "   \n",
    "        \n",
    "    g = pd.DataFrame({'D': gf[\"D\"], 'G': gf[\"G\"], 'G_min': gmin, 'G_max': gmax})\n",
    "    \n",
    "    print(\"H0: Testowana zmienna ma jednorodny rozkład losowy Poissona\")\n",
    "    print(\"H1: Testowana zmienna nie ma jednorodnego rozkład losowy Poissona\")\n",
    "    if(any(gf[\"G\"] < gmin) or any(gf[\"G\"] > gmax)):\n",
    "        print(\"Odrzucenie H0 na rzecz H1 na poziomie istotności alpha =\",alfa)\n",
    "    else:\n",
    "        print(\"Wynik testu istotności nie daje podstaw do odrzucenia H0 na rzecz H1 na poziomie istotności alpha = \",alfa)\n",
    "    \n",
    "    return g    \n",
    "    \n",
    "def point_count_on_subregions(points, subregions):\n",
    "  \n",
    "    # YOUR CODE HERE\n",
    "    \n",
    "    tab = np.zeros(len(subregions)) #Tablica o długości takiej jaka jest liczba powiatów\n",
    "    \n",
    "    for i in range (len(subregions)): #Dla każdego powiaty\n",
    "        #Na GeoSeries points wywołuję metodę .within, która sprawdza dla każdego punktu czy leży w danym powiacie\n",
    "        a = points.within(subregions.loc[i][\"geometry\"])\n",
    "        tab[i] = np.sum(a) #Jako że 'a' to tablica boolean'ów, to po jej zsumowaniu otrzymam liczbę punktów wewnątrz danego powiatu\n",
    "\n",
    "    return pd.Series(data = tab) #Zwracam serię\n",
    "\n",
    "    #raise NotImplementedError()\n",
    "    \n",
    "    #raise NotImplementedError()"
   ]
  },
  {
   "cell_type": "markdown",
   "id": "37c393a7",
   "metadata": {
    "deletable": false,
    "editable": false,
    "nbgrader": {
     "cell_type": "markdown",
     "checksum": "bd5134bca87f7397d3ec0b108bf4d001",
     "grade": false,
     "grade_id": "cell-5edd92ba05b1daf0",
     "locked": true,
     "schema_version": 3,
     "solution": false,
     "task": false
    },
    "tags": []
   },
   "source": [
    "#### b) Wygenerowanie danych"
   ]
  },
  {
   "cell_type": "code",
   "execution_count": null,
   "id": "83b2056e",
   "metadata": {
    "deletable": false,
    "nbgrader": {
     "cell_type": "code",
     "checksum": "2c1b64595c250614ec592e4e094e72b9",
     "grade": true,
     "grade_id": "cell-aaf56027e9dcf701",
     "locked": false,
     "points": 2,
     "schema_version": 3,
     "solution": true,
     "task": false
    },
    "tags": []
   },
   "outputs": [],
   "source": [
    "# YOUR CODE HERE\n",
    "x=g_test_mc(p1, 7, pol[\"geometry\"][0],15)\n",
    "y=g_test_mc(p2, 7, pol[\"geometry\"][0],15)\n",
    "z=g_test_mc(p3, 7, pol[\"geometry\"][0],15)\n",
    "#help(pp.distance_statistics.g_test)\n",
    "#raise NotImplementedError()"
   ]
  },
  {
   "cell_type": "markdown",
   "id": "f3a2ba42",
   "metadata": {
    "deletable": false,
    "editable": false,
    "nbgrader": {
     "cell_type": "markdown",
     "checksum": "52fa3126439683910d0d19557d5e50d9",
     "grade": false,
     "grade_id": "cell-c833a8838b829a62",
     "locked": true,
     "schema_version": 3,
     "solution": false,
     "task": false
    },
    "tags": []
   },
   "source": [
    "#### c) Wizualizacja"
   ]
  },
  {
   "cell_type": "code",
   "execution_count": 3,
   "id": "9f1f7b3d",
   "metadata": {
    "deletable": false,
    "nbgrader": {
     "cell_type": "code",
     "checksum": "877c62399e22edbcd812bee0ed811eb0",
     "grade": true,
     "grade_id": "cell-7c77777a4ace8147",
     "locked": false,
     "points": 7,
     "schema_version": 3,
     "solution": true,
     "task": false
    },
    "tags": []
   },
   "outputs": [
    {
     "ename": "NameError",
     "evalue": "name 'p1' is not defined",
     "output_type": "error",
     "traceback": [
      "\u001b[1;31m---------------------------------------------------------------------------\u001b[0m",
      "\u001b[1;31mNameError\u001b[0m                                 Traceback (most recent call last)",
      "Cell \u001b[1;32mIn [3], line 3\u001b[0m\n\u001b[0;32m      1\u001b[0m \u001b[38;5;66;03m# YOUR CODE HERE\u001b[39;00m\n\u001b[0;32m      2\u001b[0m fig,ax\u001b[38;5;241m=\u001b[39mplt\u001b[38;5;241m.\u001b[39msubplots(\u001b[38;5;241m2\u001b[39m,\u001b[38;5;241m3\u001b[39m,figsize\u001b[38;5;241m=\u001b[39m(\u001b[38;5;241m15\u001b[39m,\u001b[38;5;241m15\u001b[39m))\n\u001b[1;32m----> 3\u001b[0m \u001b[43mp1\u001b[49m\u001b[38;5;241m.\u001b[39mplot(ax\u001b[38;5;241m=\u001b[39max[\u001b[38;5;241m0\u001b[39m,\u001b[38;5;241m0\u001b[39m])\n\u001b[0;32m      4\u001b[0m p2\u001b[38;5;241m.\u001b[39mplot(ax\u001b[38;5;241m=\u001b[39max[\u001b[38;5;241m0\u001b[39m,\u001b[38;5;241m1\u001b[39m])\n\u001b[0;32m      5\u001b[0m p3\u001b[38;5;241m.\u001b[39mplot(ax\u001b[38;5;241m=\u001b[39max[\u001b[38;5;241m0\u001b[39m,\u001b[38;5;241m2\u001b[39m])\n",
      "\u001b[1;31mNameError\u001b[0m: name 'p1' is not defined"
     ]
    },
    {
     "data": {
      "image/png": "[encoded data removed]",
      "text/plain": [
       "<Figure size 1500x1500 with 6 Axes>"
      ]
     },
     "metadata": {},
     "output_type": "display_data"
    }
   ],
   "source": [
    "# YOUR CODE HERE\n",
    "fig,ax=plt.subplots(2,3,figsize=(15,15))\n",
    "p1.plot(ax=ax[0,0])\n",
    "p2.plot(ax=ax[0,1])\n",
    "p3.plot(ax=ax[0,2])\n",
    "ax[1,0].plot(x[\"D\"],x[\"G\"])\n",
    "ax[1,1].plot(y[\"D\"],y[\"G\"])\n",
    "ax[1,2].plot(z[\"D\"],z[\"G\"])\n",
    "\n",
    "ax[1,0].plot(x[\"D\"],x[\"G_min\"],color='red')\n",
    "ax[1,1].plot(y[\"D\"],y[\"G_min\"],color='red')\n",
    "ax[1,2].plot(z[\"D\"],z[\"G_min\"],color='red')\n",
    "ax[1,0].plot(x[\"D\"],x[\"G_max\"],color='green')\n",
    "ax[1,1].plot(y[\"D\"],y[\"G_max\"],color='green')\n",
    "ax[1,2].plot(z[\"D\"],z[\"G_max\"],color='green')\n",
    "#raise NotImplementedError()"
   ]
  },
  {
   "cell_type": "markdown",
   "id": "553d8f9e",
   "metadata": {
    "deletable": false,
    "editable": false,
    "nbgrader": {
     "cell_type": "markdown",
     "checksum": "19a38f252fcf2afa64f566a2cb2d0818",
     "grade": false,
     "grade_id": "cell-a9c7e5b3580a36b0",
     "locked": true,
     "schema_version": 3,
     "solution": false,
     "task": false
    },
    "tags": []
   },
   "source": [
    "### Zadanie 2: Autokorelacja przestrzenna danych (25 pkt)\n",
    "\n",
    "Przygotuj funkcję `spatial_autocorelation_data()`, która będzie przygotowywać dane niezbędne do oceny autokorelacji przestrzennej analizowanych danych.\n",
    "\n",
    "Schemat postępowania:\n",
    "- zagreguj dane na obszarze poszczegolnych powiatów (ze względu na różnice w powierzchni obszarów skorzystaj z wyliczonych dla nich wartości intensywności, a nie samej liczby zliczeń w ich obrębie),\n",
    "- wyznacz macierz wag przestrzennych,\n",
    "- wylicz opóźnienie przestrzenne,\n",
    "- przygotuj dane niezbędne do wykonania wykresu Morana.\n",
    "\n",
    "Następnie wykorzystaj przygotowane funkcje do oceny autokorelacji przestrzennej rozkładów punktów z plików points_4.zip i points_5.zip.\n",
    "Przedstaw wyniki analizy graficznie w postaci kartogramów intensywności i opóźnienia przestrzennego z nałożonymi na nie rozkładami punktów oraz za pomocą wykresów Morana. Zestaw wyniki na pojedynczej figurze (siatka wykresów 2x3).\n",
    "\n",
    "Przydatne klasy i funkcje:\n",
    "- `libpysal.weights.Queen()`\n",
    "- `libpysal.weights.Rook()`\n",
    "- `libpysal.spatial_lag.lag_spatial()`"
   ]
  },
  {
   "cell_type": "markdown",
   "id": "55a030bd",
   "metadata": {
    "deletable": false,
    "editable": false,
    "nbgrader": {
     "cell_type": "markdown",
     "checksum": "5353570b16455472431e4b89490ee75d",
     "grade": false,
     "grade_id": "cell-61d7f89ab3dff067",
     "locked": true,
     "schema_version": 3,
     "solution": false,
     "task": false
    },
    "tags": []
   },
   "source": [
    "#### a) Przygotowanie funkcji"
   ]
  },
  {
   "cell_type": "code",
   "execution_count": 5,
   "id": "cedfdd02",
   "metadata": {
    "deletable": false,
    "nbgrader": {
     "cell_type": "code",
     "checksum": "db8df7d3749d1b11e9f9da6be0f0c251",
     "grade": true,
     "grade_id": "cell-a95a4c2382040fd3",
     "locked": false,
     "points": 16,
     "schema_version": 3,
     "solution": true,
     "task": false
    },
    "tags": []
   },
   "outputs": [],
   "source": [
    "def spatial_autocorelation_data(points, subregions):\n",
    "    \"\"\"\n",
    "    Parameters\n",
    "    -------\n",
    "    points: GeoSeries\n",
    "        Tablica zawierająca punkty zapisane jako obiekty shapely.geometry.point.Point.\n",
    "    subregions: GeoDataFrame\n",
    "        Tablica zawierająca geometrie podobszarów zapisane jako obiekty shapely.geometry.polygon.Polygon.\n",
    "    Returns\n",
    "    -------\n",
    "    moran_plot_data: GeoDataFrame\n",
    "        Obiekt GeoDataFrame zawierający następujące kolumny:\n",
    "        \"geometry\" - kolumna z geometrią podobszarów,\n",
    "        \"intensity\" - wartości intesywności procesu w obrębie poszczególnych podobszarów,\n",
    "        \"lag\" - wartości opóźnienia przestrzennego w obrębie poszczególnych podobszarów,\n",
    "        \"intensity_std\" - ustandaryzowane wartości intensywności.\n",
    "        \"lag_std\" - ustandaryzowane wartości opóźnienia przestrzennego.\n",
    "    \"\"\"\n",
    "    # YOUR CODE HERE\n",
    "    \n",
    "    moran_plot_data = gpd.GeoDataFrame(subregions.geometry, crs = subregions.crs)\n",
    "    intensity = intensity_on_subregions(points, subregions)\n",
    "    neighbours = ps.weights.Rook.from_dataframe(powiaty)\n",
    "    lag = ps.weights.spatial_lag.lag_spatial(neighbours, intensity)\n",
    "    \n",
    "    intensity_std = intensity - intensity.mean()\n",
    "    lag_std = lag - lag.mean() #Standaryzacja\n",
    "    \n",
    "    moran_plot_data = gpd.GeoDataFrame(subregions.geometry, crs = subregions.crs)\n",
    "    moran_plot_data[\"intensity\"] = intensity\n",
    "    moran_plot_data[\"lag\"] = lag\n",
    "    moran_plot_data[\"intensity_std\"] = intensity_std\n",
    "    moran_plot_data[\"lag_std\"] = lag_std\n",
    "    return moran_plot_data\n",
    "    \n",
    "    #raise NotImplementedError()"
   ]
  },
  {
   "cell_type": "markdown",
   "id": "15748560",
   "metadata": {
    "deletable": false,
    "editable": false,
    "nbgrader": {
     "cell_type": "markdown",
     "checksum": "81263f86eacd34b1a6192443f1002ba8",
     "grade": false,
     "grade_id": "cell-f815e6a593bbdee0",
     "locked": true,
     "schema_version": 3,
     "solution": false,
     "task": false
    },
    "tags": []
   },
   "source": [
    "#### b) Wygenerowanie danych"
   ]
  },
  {
   "cell_type": "code",
   "execution_count": 6,
   "id": "7a0e2c58",
   "metadata": {
    "deletable": false,
    "nbgrader": {
     "cell_type": "code",
     "checksum": "3095d83ed84557f3703b8d101e78b9ea",
     "grade": true,
     "grade_id": "cell-cabc13b36fb45632",
     "locked": false,
     "points": 2,
     "schema_version": 3,
     "solution": true,
     "task": false
    },
    "tags": []
   },
   "outputs": [
    {
     "ename": "NameError",
     "evalue": "name 'p1' is not defined",
     "output_type": "error",
     "traceback": [
      "\u001b[1;31m---------------------------------------------------------------------------\u001b[0m",
      "\u001b[1;31mNameError\u001b[0m                                 Traceback (most recent call last)",
      "Cell \u001b[1;32mIn [6], line 3\u001b[0m\n\u001b[0;32m      1\u001b[0m \u001b[38;5;66;03m# YOUR CODE HERE\u001b[39;00m\n\u001b[1;32m----> 3\u001b[0m a1 \u001b[38;5;241m=\u001b[39m spatial_autocorelation_data(\u001b[43mp1\u001b[49m, powiaty)\n\u001b[0;32m      4\u001b[0m a2 \u001b[38;5;241m=\u001b[39m spatial_autocorelation_data(p2, powiaty)\n",
      "\u001b[1;31mNameError\u001b[0m: name 'p1' is not defined"
     ]
    }
   ],
   "source": [
    "# YOUR CODE HERE\n",
    "\n",
    "a1 = spatial_autocorelation_data(p1, powiaty)\n",
    "a2 = spatial_autocorelation_data(p2, powiaty)\n",
    "\n",
    "#raise NotImplementedError()"
   ]
  },
  {
   "cell_type": "markdown",
   "id": "7a530179",
   "metadata": {
    "deletable": false,
    "editable": false,
    "nbgrader": {
     "cell_type": "markdown",
     "checksum": "70c9bb68aa724f5c52a504ada843c22c",
     "grade": false,
     "grade_id": "cell-11787190e63930e3",
     "locked": true,
     "schema_version": 3,
     "solution": false,
     "task": false
    },
    "tags": []
   },
   "source": [
    "#### c) Wizualizacja"
   ]
  },
  {
   "cell_type": "code",
   "execution_count": 7,
   "id": "a389d37f",
   "metadata": {
    "deletable": false,
    "nbgrader": {
     "cell_type": "code",
     "checksum": "62f621ece514cf7578023889f3bd3bfa",
     "grade": true,
     "grade_id": "cell-2c443914a23cc0f2",
     "locked": false,
     "points": 7,
     "schema_version": 3,
     "solution": true,
     "task": false
    },
    "tags": []
   },
   "outputs": [
    {
     "ename": "NameError",
     "evalue": "name 'p1' is not defined",
     "output_type": "error",
     "traceback": [
      "\u001b[1;31m---------------------------------------------------------------------------\u001b[0m",
      "\u001b[1;31mNameError\u001b[0m                                 Traceback (most recent call last)",
      "Cell \u001b[1;32mIn [7], line 3\u001b[0m\n\u001b[0;32m      1\u001b[0m \u001b[38;5;66;03m# YOUR CODE HERE\u001b[39;00m\n\u001b[0;32m      2\u001b[0m fig,ax\u001b[38;5;241m=\u001b[39mplt\u001b[38;5;241m.\u001b[39msubplots(\u001b[38;5;241m2\u001b[39m,\u001b[38;5;241m3\u001b[39m,figsize\u001b[38;5;241m=\u001b[39m(\u001b[38;5;241m15\u001b[39m,\u001b[38;5;241m15\u001b[39m))\n\u001b[1;32m----> 3\u001b[0m \u001b[43mp1\u001b[49m\u001b[38;5;241m.\u001b[39mplot(ax\u001b[38;5;241m=\u001b[39max[\u001b[38;5;241m0\u001b[39m,\u001b[38;5;241m0\u001b[39m])\n\u001b[0;32m      4\u001b[0m p2\u001b[38;5;241m.\u001b[39mplot(ax\u001b[38;5;241m=\u001b[39max[\u001b[38;5;241m0\u001b[39m,\u001b[38;5;241m1\u001b[39m])\n\u001b[0;32m      5\u001b[0m p3\u001b[38;5;241m.\u001b[39mplot(ax\u001b[38;5;241m=\u001b[39max[\u001b[38;5;241m0\u001b[39m,\u001b[38;5;241m2\u001b[39m])\n",
      "\u001b[1;31mNameError\u001b[0m: name 'p1' is not defined"
     ]
    },
    {
     "data": {
      "image/png": "[encoded data removed]",
      "text/plain": [
       "<Figure size 1500x1500 with 6 Axes>"
      ]
     },
     "metadata": {},
     "output_type": "display_data"
    }
   ],
   "source": [
    "# YOUR CODE HERE\n",
    "fig,ax=plt.subplots(2,3,figsize=(15,15))\n",
    "a1.plot(ax=ax[0,0])\n",
    "a2.plot(ax=ax[0,1])\n",
    "\n",
    "axes[1][0].set_xlabel(\"os x\")\n",
    "axes[1][0].set_ylabel(\"os y\")\n",
    "axes[1][1].set_xlabel(\"os x\")   \n",
    "axes[1][1].set_ylabel(\"os y\")\n",
    "axes[1][2].set_xlabel(\"os x\")   \n",
    "axes[1][2].set_ylabel(\"os y\")\n",
    "\n",
    "\n",
    "sns.regplot(ax = axes[0][2],)\n",
    "\n",
    "ax[1,0].plot(x[\"D\"],x[\"G_min\"],color='red')\n",
    "ax[1,1].plot(y[\"D\"],y[\"G_min\"],color='blue')\n",
    "ax[1,2].plot(z[\"D\"],z[\"G_min\"],color='blue')\n",
    "ax[1,0].plot(x[\"D\"],x[\"G_max\"],color='green')\n",
    "ax[1,1].plot(y[\"D\"],y[\"G_max\"],color='green')\n",
    "ax[1,2].plot(z[\"D\"],z[\"G_max\"],color='green')\n",
    "axes[1][2].grid()\n",
    "axes[1][2].axis('square')\n",
    "\n",
    "sns.regplot(ax = axes[1][2])\n",
    "\n",
    "\n",
    "#raise NotImplementedError()"
   ]
  },
  {
   "cell_type": "code",
   "execution_count": null,
   "id": "a60eea34-75fe-4cc2-b80b-851ca76d7325",
   "metadata": {},
   "outputs": [],
   "source": []
  }
 ],
 "metadata": {
  "kernelspec": {
   "display_name": "Python 3 (ipykernel)",
   "language": "python",
   "name": "python3"
  },
  "language_info": {
   "codemirror_mode": {
    "name": "ipython",
    "version": 3
   },
   "file_extension": ".py",
   "mimetype": "text/x-python",
   "name": "python",
   "nbconvert_exporter": "python",
   "pygments_lexer": "ipython3",
   "version": "3.10.7"
  },
  "nteract": {
   "version": "nteract-front-end@1.0.0"
  }
 },
 "nbformat": 4,
 "nbformat_minor": 5
}
